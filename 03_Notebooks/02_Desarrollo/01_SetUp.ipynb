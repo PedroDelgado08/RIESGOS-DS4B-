{
 "cells": [
  {
   "cell_type": "markdown",
   "id": "e7c1ed43",
   "metadata": {},
   "source": [
    "## CREAR EL ENTORNO PARA EL PROYECTO"
   ]
  },
  {
   "cell_type": "markdown",
   "id": "a97ba1c4",
   "metadata": {},
   "source": [
    "Crear un nuevo entorno e instalar los paquetes básicos:\n",
    "\n",
    "**Hemos adaptado algunas versiones de librerías para que no te den fallo de compatibilidad** \n",
    "\n",
    "\n",
    "1. Ir al prompt o terminal\n",
    "2. Copiar y poner la línea inferior:\n",
    "\n",
    "conda create --name proyecto1 -c conda-forge python=3.11.11 numpy pandas matplotlib seaborn scikit-learn=1.3.1 scipy=1.9.3 sqlalchemy xgboost=2.0.3 \n",
    "\n",
    "\n",
    "3. Activar el nuevo entorno:\n",
    "\n",
    "conda activate proyecto1\n",
    "\n",
    "4. Instalar los paquetes que están en otros canales:\n",
    "\n",
    "conda install -c conda-forge pyjanitor scikit-plot yellowbrick imbalanced-learn cloudpickle \n",
    "\n",
    "conda install -c districtdatalabs yellowbrick\n",
    "\n",
    "pip install notebook==5.7.8 jupyter_client jupyter_contrib_nbextensions category_encoders==2.6.2\n",
    "\n",
    "5. Crear el environment.yml\n",
    "\n",
    "conda env export > riesgos.yml\n",
    "\n",
    "*Nota: es posible que te lo haya creado en C:\\Users\\tu_usuario, más adelante moveremos este archivo al directorio del proyecto*"
   ]
  },
  {
   "cell_type": "markdown",
   "id": "ae6b99f9",
   "metadata": {},
   "source": [
    "## IMPORTAR PAQUETES"
   ]
  },
  {
   "cell_type": "code",
   "execution_count": 1,
   "id": "ca4102de",
   "metadata": {},
   "outputs": [],
   "source": [
    "import os\n",
    "import numpy as np\n",
    "import pandas as pd\n",
    "\n",
    "#Automcompletar rápido\n",
    "%config IPCompleter.greedy=True"
   ]
  },
  {
   "cell_type": "markdown",
   "id": "0dc77404",
   "metadata": {},
   "source": [
    "## CREAR EL DIRECTORIO DEL PROYECTO"
   ]
  },
  {
   "cell_type": "markdown",
   "id": "bb0b69ac",
   "metadata": {},
   "source": [
    "### Definir el directorio raiz donde vamos a crear el proyecto"
   ]
  },
  {
   "cell_type": "code",
   "execution_count": 2,
   "id": "5ba5e9ec",
   "metadata": {},
   "outputs": [],
   "source": [
    "raiz = 'C:/Users/User/Desktop/DS4B/03_MACHINE_LEARNING/08_CASOS/'"
   ]
  },
  {
   "cell_type": "markdown",
   "id": "77f8941b",
   "metadata": {},
   "source": [
    "### Definir el nombre del proyecto"
   ]
  },
  {
   "cell_type": "code",
   "execution_count": null,
   "id": "11a4e323",
   "metadata": {},
   "outputs": [],
   "source": [
    "nombre_dir = 'RIESGOS'"
   ]
  },
  {
   "cell_type": "markdown",
   "id": "7a97fe8b",
   "metadata": {},
   "source": [
    "### Crear el directorio y la estructura del proyecto"
   ]
  },
  {
   "cell_type": "code",
   "execution_count": null,
   "id": "6013c1ca",
   "metadata": {},
   "outputs": [
    {
     "name": "stdout",
     "output_type": "stream",
     "text": [
      "Se han creado satisfactoriamente los directorios y archivos en C:/Users/User/Desktop/DS4B/03_MACHINE_LEARNING/08_CASOS/RIESGOS\n"
     ]
    }
   ],
   "source": [
    "# Ruta base\n",
    "path = os.path.join(raiz, nombre_dir)\n",
    "\n",
    "# Estructura de carpetas en forma de diccionario\n",
    "estructura = {\n",
    "    '01_Documentos': {},\n",
    "    '02_Datos': {\n",
    "        '01_Originales': {},\n",
    "        '02_Validacion': {},\n",
    "        '03_Trabajo': {},\n",
    "        '04_Caches': {}\n",
    "    },\n",
    "    '03_Notebooks': {\n",
    "        '01_Funciones': {},\n",
    "        '02_Desarrollo': {},\n",
    "        '03_Sistema': {}\n",
    "    },\n",
    "    '04_Modelos': {},\n",
    "    '05_Resultados': {},\n",
    "    '09_Otros': {}\n",
    "}\n",
    "\n",
    "def crear_estructura(base_path, estructura):\n",
    "    for carpeta, subcarpetas in estructura.items():\n",
    "        carpeta_path = os.path.join(base_path, carpeta)\n",
    "        os.makedirs(carpeta_path, exist_ok=True)\n",
    "        # Crear archivo .gitkeep\n",
    "        with open(os.path.join(carpeta_path, '.gitkeep'), 'w') as f:\n",
    "            f.write('')\n",
    "        # Llamada recursiva para subcarpetas\n",
    "        if subcarpetas:\n",
    "            crear_estructura(carpeta_path, subcarpetas)\n",
    "\n",
    "try:\n",
    "    # Crear carpeta raíz\n",
    "    os.makedirs(path, exist_ok=True)\n",
    "    # Crear toda la estructura de carpetas con .gitkeep\n",
    "    crear_estructura(path, estructura)\n",
    "except OSError as e:\n",
    "    print(\"La creación de los directorios ha fallado:\", e)\n",
    "else:\n",
    "    print(f\"Se han creado satisfactoriamente los directorios y archivos en {path}\")\n"
   ]
  },
  {
   "cell_type": "markdown",
   "id": "20451377",
   "metadata": {},
   "source": [
    "### Situar el directorio de trabajo en el proyecto"
   ]
  },
  {
   "cell_type": "code",
   "execution_count": 4,
   "id": "1541b49e",
   "metadata": {},
   "outputs": [],
   "source": [
    "path = os.path.join(raiz, nombre_dir)\n",
    "os.chdir(path)"
   ]
  },
  {
   "cell_type": "markdown",
   "id": "9816624b",
   "metadata": {},
   "source": [
    "### Mover el environment.yml"
   ]
  },
  {
   "cell_type": "markdown",
   "id": "78ecd959",
   "metadata": {},
   "source": [
    "Buscar manualmente el archivo proyecto1.yml, que posiblemente lo haya ubicado en C:\\Users\\tu_usuario y moverlo a la carpeta /01_Documentos'"
   ]
  },
  {
   "cell_type": "markdown",
   "id": "499e6aac",
   "metadata": {},
   "source": [
    "## CREAR LOS DATASETS INICIALES"
   ]
  },
  {
   "cell_type": "markdown",
   "id": "a591aaff",
   "metadata": {},
   "source": [
    "Poner los datos originales en la carpeta '/02_Datos/01_Originales'"
   ]
  },
  {
   "cell_type": "markdown",
   "id": "ea395549",
   "metadata": {},
   "source": [
    "### Importar los datos"
   ]
  },
  {
   "cell_type": "markdown",
   "id": "90547aaf",
   "metadata": {},
   "source": [
    "Sustituir el nombre_fichero_datos."
   ]
  },
  {
   "cell_type": "code",
   "execution_count": 5,
   "id": "a0dd5b12",
   "metadata": {},
   "outputs": [],
   "source": [
    "nombre_fichero_datos = 'prestamos.csv'"
   ]
  },
  {
   "cell_type": "markdown",
   "id": "886d2246",
   "metadata": {},
   "source": [
    "Cargar los datos."
   ]
  },
  {
   "cell_type": "code",
   "execution_count": 6,
   "id": "976a2446",
   "metadata": {},
   "outputs": [
    {
     "data": {
      "text/html": [
       "<div>\n",
       "<style scoped>\n",
       "    .dataframe tbody tr th:only-of-type {\n",
       "        vertical-align: middle;\n",
       "    }\n",
       "\n",
       "    .dataframe tbody tr th {\n",
       "        vertical-align: top;\n",
       "    }\n",
       "\n",
       "    .dataframe thead th {\n",
       "        text-align: right;\n",
       "    }\n",
       "</style>\n",
       "<table border=\"1\" class=\"dataframe\">\n",
       "  <thead>\n",
       "    <tr style=\"text-align: right;\">\n",
       "      <th></th>\n",
       "      <th>empleo</th>\n",
       "      <th>antigüedad_empleo</th>\n",
       "      <th>ingresos</th>\n",
       "      <th>ingresos_verificados</th>\n",
       "      <th>rating</th>\n",
       "      <th>dti</th>\n",
       "      <th>vivienda</th>\n",
       "      <th>num_hipotecas</th>\n",
       "      <th>num_lineas_credito</th>\n",
       "      <th>porc_tarjetas_75p</th>\n",
       "      <th>...</th>\n",
       "      <th>id_prestamo</th>\n",
       "      <th>descripcion</th>\n",
       "      <th>finalidad</th>\n",
       "      <th>principal</th>\n",
       "      <th>tipo_interes</th>\n",
       "      <th>num_cuotas</th>\n",
       "      <th>imp_cuota</th>\n",
       "      <th>imp_amortizado</th>\n",
       "      <th>estado</th>\n",
       "      <th>imp_recuperado</th>\n",
       "    </tr>\n",
       "    <tr>\n",
       "      <th>id_cliente</th>\n",
       "      <th></th>\n",
       "      <th></th>\n",
       "      <th></th>\n",
       "      <th></th>\n",
       "      <th></th>\n",
       "      <th></th>\n",
       "      <th></th>\n",
       "      <th></th>\n",
       "      <th></th>\n",
       "      <th></th>\n",
       "      <th></th>\n",
       "      <th></th>\n",
       "      <th></th>\n",
       "      <th></th>\n",
       "      <th></th>\n",
       "      <th></th>\n",
       "      <th></th>\n",
       "      <th></th>\n",
       "      <th></th>\n",
       "      <th></th>\n",
       "      <th></th>\n",
       "    </tr>\n",
       "  </thead>\n",
       "  <tbody>\n",
       "    <tr>\n",
       "      <th>137387967</th>\n",
       "      <td>Hvac technician</td>\n",
       "      <td>3 years</td>\n",
       "      <td>54000.0</td>\n",
       "      <td>Source Verified</td>\n",
       "      <td>A</td>\n",
       "      <td>19.31</td>\n",
       "      <td>MORTGAGE</td>\n",
       "      <td>2.0</td>\n",
       "      <td>10.0</td>\n",
       "      <td>33.3</td>\n",
       "      <td>...</td>\n",
       "      <td>NaN</td>\n",
       "      <td>NaN</td>\n",
       "      <td>debt_consolidation</td>\n",
       "      <td>15000.0</td>\n",
       "      <td>7.21</td>\n",
       "      <td>36 months</td>\n",
       "      <td>464.60</td>\n",
       "      <td>2669.06</td>\n",
       "      <td>Current</td>\n",
       "      <td>0.00</td>\n",
       "    </tr>\n",
       "    <tr>\n",
       "      <th>4798121</th>\n",
       "      <td>Target Promotions and Marketing,Inc</td>\n",
       "      <td>10+ years</td>\n",
       "      <td>65000.0</td>\n",
       "      <td>Not Verified</td>\n",
       "      <td>D</td>\n",
       "      <td>25.40</td>\n",
       "      <td>RENT</td>\n",
       "      <td>1.0</td>\n",
       "      <td>15.0</td>\n",
       "      <td>85.7</td>\n",
       "      <td>...</td>\n",
       "      <td>NaN</td>\n",
       "      <td>NaN</td>\n",
       "      <td>debt_consolidation</td>\n",
       "      <td>10000.0</td>\n",
       "      <td>17.77</td>\n",
       "      <td>36 months</td>\n",
       "      <td>360.38</td>\n",
       "      <td>6362.96</td>\n",
       "      <td>Charged Off</td>\n",
       "      <td>0.00</td>\n",
       "    </tr>\n",
       "    <tr>\n",
       "      <th>46641215</th>\n",
       "      <td>Banker</td>\n",
       "      <td>5 years</td>\n",
       "      <td>135000.0</td>\n",
       "      <td>Verified</td>\n",
       "      <td>A</td>\n",
       "      <td>14.68</td>\n",
       "      <td>RENT</td>\n",
       "      <td>0.0</td>\n",
       "      <td>19.0</td>\n",
       "      <td>0.0</td>\n",
       "      <td>...</td>\n",
       "      <td>NaN</td>\n",
       "      <td>NaN</td>\n",
       "      <td>debt_consolidation</td>\n",
       "      <td>24000.0</td>\n",
       "      <td>6.39</td>\n",
       "      <td>36 months</td>\n",
       "      <td>734.38</td>\n",
       "      <td>24000.00</td>\n",
       "      <td>Fully Paid</td>\n",
       "      <td>0.00</td>\n",
       "    </tr>\n",
       "    <tr>\n",
       "      <th>87998444</th>\n",
       "      <td>executive director</td>\n",
       "      <td>9 years</td>\n",
       "      <td>188000.0</td>\n",
       "      <td>Source Verified</td>\n",
       "      <td>B</td>\n",
       "      <td>11.69</td>\n",
       "      <td>MORTGAGE</td>\n",
       "      <td>3.0</td>\n",
       "      <td>15.0</td>\n",
       "      <td>0.0</td>\n",
       "      <td>...</td>\n",
       "      <td>NaN</td>\n",
       "      <td>NaN</td>\n",
       "      <td>credit_card</td>\n",
       "      <td>27000.0</td>\n",
       "      <td>8.99</td>\n",
       "      <td>60 months</td>\n",
       "      <td>560.35</td>\n",
       "      <td>12443.00</td>\n",
       "      <td>Current</td>\n",
       "      <td>0.00</td>\n",
       "    </tr>\n",
       "    <tr>\n",
       "      <th>132883631</th>\n",
       "      <td>Subsea Technician</td>\n",
       "      <td>7 years</td>\n",
       "      <td>125000.0</td>\n",
       "      <td>Source Verified</td>\n",
       "      <td>B</td>\n",
       "      <td>9.00</td>\n",
       "      <td>MORTGAGE</td>\n",
       "      <td>1.0</td>\n",
       "      <td>6.0</td>\n",
       "      <td>33.3</td>\n",
       "      <td>...</td>\n",
       "      <td>NaN</td>\n",
       "      <td>NaN</td>\n",
       "      <td>debt_consolidation</td>\n",
       "      <td>22000.0</td>\n",
       "      <td>10.90</td>\n",
       "      <td>36 months</td>\n",
       "      <td>719.22</td>\n",
       "      <td>22000.00</td>\n",
       "      <td>Fully Paid</td>\n",
       "      <td>0.00</td>\n",
       "    </tr>\n",
       "    <tr>\n",
       "      <th>...</th>\n",
       "      <td>...</td>\n",
       "      <td>...</td>\n",
       "      <td>...</td>\n",
       "      <td>...</td>\n",
       "      <td>...</td>\n",
       "      <td>...</td>\n",
       "      <td>...</td>\n",
       "      <td>...</td>\n",
       "      <td>...</td>\n",
       "      <td>...</td>\n",
       "      <td>...</td>\n",
       "      <td>...</td>\n",
       "      <td>...</td>\n",
       "      <td>...</td>\n",
       "      <td>...</td>\n",
       "      <td>...</td>\n",
       "      <td>...</td>\n",
       "      <td>...</td>\n",
       "      <td>...</td>\n",
       "      <td>...</td>\n",
       "      <td>...</td>\n",
       "    </tr>\n",
       "    <tr>\n",
       "      <th>51876926</th>\n",
       "      <td>Office Manager</td>\n",
       "      <td>10+ years</td>\n",
       "      <td>42000.0</td>\n",
       "      <td>Not Verified</td>\n",
       "      <td>C</td>\n",
       "      <td>20.85</td>\n",
       "      <td>MORTGAGE</td>\n",
       "      <td>6.0</td>\n",
       "      <td>9.0</td>\n",
       "      <td>100.0</td>\n",
       "      <td>...</td>\n",
       "      <td>NaN</td>\n",
       "      <td>NaN</td>\n",
       "      <td>debt_consolidation</td>\n",
       "      <td>8000.0</td>\n",
       "      <td>12.29</td>\n",
       "      <td>36 months</td>\n",
       "      <td>266.83</td>\n",
       "      <td>8000.00</td>\n",
       "      <td>Fully Paid</td>\n",
       "      <td>0.00</td>\n",
       "    </tr>\n",
       "    <tr>\n",
       "      <th>121031962</th>\n",
       "      <td>Owner &amp; President</td>\n",
       "      <td>6 years</td>\n",
       "      <td>111697.0</td>\n",
       "      <td>Verified</td>\n",
       "      <td>B</td>\n",
       "      <td>16.63</td>\n",
       "      <td>MORTGAGE</td>\n",
       "      <td>2.0</td>\n",
       "      <td>10.0</td>\n",
       "      <td>50.0</td>\n",
       "      <td>...</td>\n",
       "      <td>NaN</td>\n",
       "      <td>NaN</td>\n",
       "      <td>other</td>\n",
       "      <td>10000.0</td>\n",
       "      <td>9.44</td>\n",
       "      <td>36 months</td>\n",
       "      <td>320.05</td>\n",
       "      <td>4388.51</td>\n",
       "      <td>Current</td>\n",
       "      <td>0.00</td>\n",
       "    </tr>\n",
       "    <tr>\n",
       "      <th>135641397</th>\n",
       "      <td>Sr. Field Engineer</td>\n",
       "      <td>10+ years</td>\n",
       "      <td>285000.0</td>\n",
       "      <td>Source Verified</td>\n",
       "      <td>D</td>\n",
       "      <td>6.02</td>\n",
       "      <td>MORTGAGE</td>\n",
       "      <td>3.0</td>\n",
       "      <td>9.0</td>\n",
       "      <td>25.0</td>\n",
       "      <td>...</td>\n",
       "      <td>NaN</td>\n",
       "      <td>NaN</td>\n",
       "      <td>small_business</td>\n",
       "      <td>30000.0</td>\n",
       "      <td>17.47</td>\n",
       "      <td>36 months</td>\n",
       "      <td>1076.62</td>\n",
       "      <td>5387.53</td>\n",
       "      <td>Current</td>\n",
       "      <td>0.00</td>\n",
       "    </tr>\n",
       "    <tr>\n",
       "      <th>53664762</th>\n",
       "      <td>Attorney</td>\n",
       "      <td>8 years</td>\n",
       "      <td>168000.0</td>\n",
       "      <td>Source Verified</td>\n",
       "      <td>E</td>\n",
       "      <td>4.69</td>\n",
       "      <td>RENT</td>\n",
       "      <td>0.0</td>\n",
       "      <td>8.0</td>\n",
       "      <td>0.0</td>\n",
       "      <td>...</td>\n",
       "      <td>NaN</td>\n",
       "      <td>NaN</td>\n",
       "      <td>small_business</td>\n",
       "      <td>30050.0</td>\n",
       "      <td>18.25</td>\n",
       "      <td>60 months</td>\n",
       "      <td>767.17</td>\n",
       "      <td>2964.44</td>\n",
       "      <td>Charged Off</td>\n",
       "      <td>2750.88</td>\n",
       "    </tr>\n",
       "    <tr>\n",
       "      <th>94394801</th>\n",
       "      <td>NaN</td>\n",
       "      <td>NaN</td>\n",
       "      <td>80000.0</td>\n",
       "      <td>Not Verified</td>\n",
       "      <td>C</td>\n",
       "      <td>31.49</td>\n",
       "      <td>MORTGAGE</td>\n",
       "      <td>1.0</td>\n",
       "      <td>9.0</td>\n",
       "      <td>50.0</td>\n",
       "      <td>...</td>\n",
       "      <td>NaN</td>\n",
       "      <td>NaN</td>\n",
       "      <td>debt_consolidation</td>\n",
       "      <td>10000.0</td>\n",
       "      <td>13.99</td>\n",
       "      <td>36 months</td>\n",
       "      <td>341.73</td>\n",
       "      <td>7096.40</td>\n",
       "      <td>Current</td>\n",
       "      <td>0.00</td>\n",
       "    </tr>\n",
       "  </tbody>\n",
       "</table>\n",
       "<p>200000 rows × 24 columns</p>\n",
       "</div>"
      ],
      "text/plain": [
       "                                         empleo antigüedad_empleo  ingresos  \\\n",
       "id_cliente                                                                    \n",
       "137387967                      Hvac technician            3 years   54000.0   \n",
       "4798121     Target Promotions and Marketing,Inc         10+ years   65000.0   \n",
       "46641215                                 Banker           5 years  135000.0   \n",
       "87998444                     executive director           9 years  188000.0   \n",
       "132883631                     Subsea Technician           7 years  125000.0   \n",
       "...                                         ...               ...       ...   \n",
       "51876926                         Office Manager         10+ years   42000.0   \n",
       "121031962                     Owner & President           6 years  111697.0   \n",
       "135641397                    Sr. Field Engineer         10+ years  285000.0   \n",
       "53664762                               Attorney           8 years  168000.0   \n",
       "94394801                                    NaN               NaN   80000.0   \n",
       "\n",
       "           ingresos_verificados rating    dti  vivienda  num_hipotecas  \\\n",
       "id_cliente                                                               \n",
       "137387967       Source Verified      A  19.31  MORTGAGE            2.0   \n",
       "4798121            Not Verified      D  25.40      RENT            1.0   \n",
       "46641215               Verified      A  14.68      RENT            0.0   \n",
       "87998444        Source Verified      B  11.69  MORTGAGE            3.0   \n",
       "132883631       Source Verified      B   9.00  MORTGAGE            1.0   \n",
       "...                         ...    ...    ...       ...            ...   \n",
       "51876926           Not Verified      C  20.85  MORTGAGE            6.0   \n",
       "121031962              Verified      B  16.63  MORTGAGE            2.0   \n",
       "135641397       Source Verified      D   6.02  MORTGAGE            3.0   \n",
       "53664762        Source Verified      E   4.69      RENT            0.0   \n",
       "94394801           Not Verified      C  31.49  MORTGAGE            1.0   \n",
       "\n",
       "            num_lineas_credito  porc_tarjetas_75p  ...  id_prestamo  \\\n",
       "id_cliente                                         ...                \n",
       "137387967                 10.0               33.3  ...          NaN   \n",
       "4798121                   15.0               85.7  ...          NaN   \n",
       "46641215                  19.0                0.0  ...          NaN   \n",
       "87998444                  15.0                0.0  ...          NaN   \n",
       "132883631                  6.0               33.3  ...          NaN   \n",
       "...                        ...                ...  ...          ...   \n",
       "51876926                   9.0              100.0  ...          NaN   \n",
       "121031962                 10.0               50.0  ...          NaN   \n",
       "135641397                  9.0               25.0  ...          NaN   \n",
       "53664762                   8.0                0.0  ...          NaN   \n",
       "94394801                   9.0               50.0  ...          NaN   \n",
       "\n",
       "            descripcion           finalidad  principal  tipo_interes  \\\n",
       "id_cliente                                                             \n",
       "137387967           NaN  debt_consolidation    15000.0          7.21   \n",
       "4798121             NaN  debt_consolidation    10000.0         17.77   \n",
       "46641215            NaN  debt_consolidation    24000.0          6.39   \n",
       "87998444            NaN         credit_card    27000.0          8.99   \n",
       "132883631           NaN  debt_consolidation    22000.0         10.90   \n",
       "...                 ...                 ...        ...           ...   \n",
       "51876926            NaN  debt_consolidation     8000.0         12.29   \n",
       "121031962           NaN               other    10000.0          9.44   \n",
       "135641397           NaN      small_business    30000.0         17.47   \n",
       "53664762            NaN      small_business    30050.0         18.25   \n",
       "94394801            NaN  debt_consolidation    10000.0         13.99   \n",
       "\n",
       "            num_cuotas imp_cuota  imp_amortizado       estado imp_recuperado  \n",
       "id_cliente                                                                    \n",
       "137387967    36 months    464.60         2669.06      Current           0.00  \n",
       "4798121      36 months    360.38         6362.96  Charged Off           0.00  \n",
       "46641215     36 months    734.38        24000.00   Fully Paid           0.00  \n",
       "87998444     60 months    560.35        12443.00      Current           0.00  \n",
       "132883631    36 months    719.22        22000.00   Fully Paid           0.00  \n",
       "...                ...       ...             ...          ...            ...  \n",
       "51876926     36 months    266.83         8000.00   Fully Paid           0.00  \n",
       "121031962    36 months    320.05         4388.51      Current           0.00  \n",
       "135641397    36 months   1076.62         5387.53      Current           0.00  \n",
       "53664762     60 months    767.17         2964.44  Charged Off        2750.88  \n",
       "94394801     36 months    341.73         7096.40      Current           0.00  \n",
       "\n",
       "[200000 rows x 24 columns]"
      ]
     },
     "execution_count": 6,
     "metadata": {},
     "output_type": "execute_result"
    }
   ],
   "source": [
    "ruta_completa = path + '/02_Datos/01_Originales/' + nombre_fichero_datos\n",
    "\n",
    "datos = pd.read_csv(ruta_completa,index_col=0)\n",
    "datos"
   ]
  },
  {
   "cell_type": "markdown",
   "id": "c1e17b48",
   "metadata": {},
   "source": [
    "### Extraer y reservar el dataset de validación"
   ]
  },
  {
   "cell_type": "code",
   "execution_count": 7,
   "id": "c38c1335",
   "metadata": {},
   "outputs": [],
   "source": [
    "val= datos.sample(frac = 0.3)"
   ]
  },
  {
   "cell_type": "code",
   "execution_count": 8,
   "id": "db6a87c1",
   "metadata": {},
   "outputs": [],
   "source": [
    "nombre_fichero_validacion = 'validacion.csv'\n",
    "\n",
    "ruta_completa = path + '/02_Datos/02_Validacion/' + nombre_fichero_validacion\n",
    "\n",
    "val.to_csv(ruta_completa)"
   ]
  },
  {
   "cell_type": "markdown",
   "id": "ae36fad4",
   "metadata": {},
   "source": [
    "### Extraer y guardar el dataset de trabajo"
   ]
  },
  {
   "cell_type": "code",
   "execution_count": 9,
   "id": "da670871",
   "metadata": {},
   "outputs": [],
   "source": [
    "trabajo = datos.loc[~datos.index.isin(val.index)]"
   ]
  },
  {
   "cell_type": "code",
   "execution_count": 10,
   "id": "cab3cc50",
   "metadata": {},
   "outputs": [],
   "source": [
    "nombre_fichero_trabajo = 'trabajo.csv'\n",
    "\n",
    "ruta_completa = path + '/02_Datos/03_Trabajo/' + nombre_fichero_trabajo\n",
    "\n",
    "trabajo.to_csv(ruta_completa)"
   ]
  },
  {
   "cell_type": "markdown",
   "id": "6cc49709",
   "metadata": {},
   "source": [
    "### Extraer y guardar una muestra"
   ]
  },
  {
   "cell_type": "markdown",
   "id": "7f5cb26a",
   "metadata": {},
   "source": [
    "Actualizar el tamaño de la muestra."
   ]
  },
  {
   "cell_type": "code",
   "execution_count": 11,
   "id": "9477162e",
   "metadata": {},
   "outputs": [],
   "source": [
    "muestra= trabajo.sample(n = 20000)"
   ]
  },
  {
   "cell_type": "code",
   "execution_count": 12,
   "id": "d0f5d467",
   "metadata": {},
   "outputs": [],
   "source": [
    "nombre_fichero_muestra = 'muestra.csv'\n",
    "\n",
    "ruta_completa = path + '/02_Datos/03_Trabajo/' + nombre_fichero_muestra\n",
    "\n",
    "muestra.to_csv(ruta_completa)"
   ]
  }
 ],
 "metadata": {
  "kernelspec": {
   "display_name": "proyecto1",
   "language": "python",
   "name": "python3"
  },
  "language_info": {
   "codemirror_mode": {
    "name": "ipython",
    "version": 3
   },
   "file_extension": ".py",
   "mimetype": "text/x-python",
   "name": "python",
   "nbconvert_exporter": "python",
   "pygments_lexer": "ipython3",
   "version": "3.11.11"
  },
  "toc": {
   "base_numbering": 1,
   "nav_menu": {},
   "number_sections": true,
   "sideBar": true,
   "skip_h1_title": false,
   "title_cell": "Table of Contents",
   "title_sidebar": "Contents",
   "toc_cell": false,
   "toc_position": {
    "height": "calc(100% - 180px)",
    "left": "10px",
    "top": "150px",
    "width": "208.9px"
   },
   "toc_section_display": true,
   "toc_window_display": true
  },
  "varInspector": {
   "cols": {
    "lenName": 16,
    "lenType": 16,
    "lenVar": 40
   },
   "kernels_config": {
    "python": {
     "delete_cmd_postfix": "",
     "delete_cmd_prefix": "del ",
     "library": "var_list.py",
     "varRefreshCmd": "print(var_dic_list())"
    },
    "r": {
     "delete_cmd_postfix": ") ",
     "delete_cmd_prefix": "rm(",
     "library": "var_list.r",
     "varRefreshCmd": "cat(var_dic_list()) "
    }
   },
   "types_to_exclude": [
    "module",
    "function",
    "builtin_function_or_method",
    "instance",
    "_Feature"
   ],
   "window_display": false
  }
 },
 "nbformat": 4,
 "nbformat_minor": 5
}
