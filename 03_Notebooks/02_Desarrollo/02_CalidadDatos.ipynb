{
 "cells": [
  {
   "cell_type": "markdown",
   "id": "swiss-fault",
   "metadata": {},
   "source": [
    "## IMPORTAR PAQUETES"
   ]
  },
  {
   "cell_type": "code",
   "execution_count": 1,
   "id": "adjacent-toddler",
   "metadata": {},
   "outputs": [],
   "source": [
    "import numpy as np\n",
    "import pandas as pd\n",
    "from janitor import clean_names\n",
    "\n",
    "#Automcompletar rápido\n",
    "%config IPCompleter.greedy=True"
   ]
  },
  {
   "cell_type": "markdown",
   "id": "graduate-compensation",
   "metadata": {},
   "source": [
    "## IMPORTAR LOS DATOS"
   ]
  },
  {
   "cell_type": "markdown",
   "id": "38bb812b",
   "metadata": {},
   "source": [
    "Sustituir la ruta del proyecto."
   ]
  },
  {
   "cell_type": "code",
   "execution_count": 5,
   "id": "28c63848",
   "metadata": {},
   "outputs": [],
   "source": [
    "ruta_proyecto = 'C:/Users/User/Desktop/DS4B/03_MACHINE_LEARNING/08_CASOS/RIESGOS'"
   ]
  },
  {
   "cell_type": "markdown",
   "id": "ba473b09",
   "metadata": {},
   "source": [
    "Sustituir el nombre_fichero_datos."
   ]
  },
  {
   "cell_type": "code",
   "execution_count": 6,
   "id": "5d9dc5ea",
   "metadata": {},
   "outputs": [],
   "source": [
    "nombre_fichero_datos = 'trabajo.csv'"
   ]
  },
  {
   "cell_type": "markdown",
   "id": "ae75bf0b",
   "metadata": {},
   "source": [
    "Cargar los datos."
   ]
  },
  {
   "cell_type": "code",
   "execution_count": 8,
   "id": "24ff453b",
   "metadata": {},
   "outputs": [
    {
     "data": {
      "text/html": [
       "<div>\n",
       "<style scoped>\n",
       "    .dataframe tbody tr th:only-of-type {\n",
       "        vertical-align: middle;\n",
       "    }\n",
       "\n",
       "    .dataframe tbody tr th {\n",
       "        vertical-align: top;\n",
       "    }\n",
       "\n",
       "    .dataframe thead th {\n",
       "        text-align: right;\n",
       "    }\n",
       "</style>\n",
       "<table border=\"1\" class=\"dataframe\">\n",
       "  <thead>\n",
       "    <tr style=\"text-align: right;\">\n",
       "      <th></th>\n",
       "      <th>empleo</th>\n",
       "      <th>antigüedad_empleo</th>\n",
       "      <th>ingresos</th>\n",
       "      <th>ingresos_verificados</th>\n",
       "      <th>rating</th>\n",
       "      <th>dti</th>\n",
       "      <th>vivienda</th>\n",
       "      <th>num_hipotecas</th>\n",
       "      <th>num_lineas_credito</th>\n",
       "      <th>porc_tarjetas_75p</th>\n",
       "      <th>...</th>\n",
       "      <th>id_prestamo</th>\n",
       "      <th>descripcion</th>\n",
       "      <th>finalidad</th>\n",
       "      <th>principal</th>\n",
       "      <th>tipo_interes</th>\n",
       "      <th>num_cuotas</th>\n",
       "      <th>imp_cuota</th>\n",
       "      <th>imp_amortizado</th>\n",
       "      <th>estado</th>\n",
       "      <th>imp_recuperado</th>\n",
       "    </tr>\n",
       "    <tr>\n",
       "      <th>id_cliente</th>\n",
       "      <th></th>\n",
       "      <th></th>\n",
       "      <th></th>\n",
       "      <th></th>\n",
       "      <th></th>\n",
       "      <th></th>\n",
       "      <th></th>\n",
       "      <th></th>\n",
       "      <th></th>\n",
       "      <th></th>\n",
       "      <th></th>\n",
       "      <th></th>\n",
       "      <th></th>\n",
       "      <th></th>\n",
       "      <th></th>\n",
       "      <th></th>\n",
       "      <th></th>\n",
       "      <th></th>\n",
       "      <th></th>\n",
       "      <th></th>\n",
       "      <th></th>\n",
       "    </tr>\n",
       "  </thead>\n",
       "  <tbody>\n",
       "    <tr>\n",
       "      <th>137387967</th>\n",
       "      <td>Hvac technician</td>\n",
       "      <td>3 years</td>\n",
       "      <td>54000.0</td>\n",
       "      <td>Source Verified</td>\n",
       "      <td>A</td>\n",
       "      <td>19.31</td>\n",
       "      <td>MORTGAGE</td>\n",
       "      <td>2.0</td>\n",
       "      <td>10.0</td>\n",
       "      <td>33.3</td>\n",
       "      <td>...</td>\n",
       "      <td>NaN</td>\n",
       "      <td>NaN</td>\n",
       "      <td>debt_consolidation</td>\n",
       "      <td>15000.0</td>\n",
       "      <td>7.21</td>\n",
       "      <td>36 months</td>\n",
       "      <td>464.60</td>\n",
       "      <td>2669.06</td>\n",
       "      <td>Current</td>\n",
       "      <td>0.00</td>\n",
       "    </tr>\n",
       "    <tr>\n",
       "      <th>46641215</th>\n",
       "      <td>Banker</td>\n",
       "      <td>5 years</td>\n",
       "      <td>135000.0</td>\n",
       "      <td>Verified</td>\n",
       "      <td>A</td>\n",
       "      <td>14.68</td>\n",
       "      <td>RENT</td>\n",
       "      <td>0.0</td>\n",
       "      <td>19.0</td>\n",
       "      <td>0.0</td>\n",
       "      <td>...</td>\n",
       "      <td>NaN</td>\n",
       "      <td>NaN</td>\n",
       "      <td>debt_consolidation</td>\n",
       "      <td>24000.0</td>\n",
       "      <td>6.39</td>\n",
       "      <td>36 months</td>\n",
       "      <td>734.38</td>\n",
       "      <td>24000.00</td>\n",
       "      <td>Fully Paid</td>\n",
       "      <td>0.00</td>\n",
       "    </tr>\n",
       "    <tr>\n",
       "      <th>87998444</th>\n",
       "      <td>executive director</td>\n",
       "      <td>9 years</td>\n",
       "      <td>188000.0</td>\n",
       "      <td>Source Verified</td>\n",
       "      <td>B</td>\n",
       "      <td>11.69</td>\n",
       "      <td>MORTGAGE</td>\n",
       "      <td>3.0</td>\n",
       "      <td>15.0</td>\n",
       "      <td>0.0</td>\n",
       "      <td>...</td>\n",
       "      <td>NaN</td>\n",
       "      <td>NaN</td>\n",
       "      <td>credit_card</td>\n",
       "      <td>27000.0</td>\n",
       "      <td>8.99</td>\n",
       "      <td>60 months</td>\n",
       "      <td>560.35</td>\n",
       "      <td>12443.00</td>\n",
       "      <td>Current</td>\n",
       "      <td>0.00</td>\n",
       "    </tr>\n",
       "    <tr>\n",
       "      <th>131289518</th>\n",
       "      <td>NaN</td>\n",
       "      <td>10+ years</td>\n",
       "      <td>72777.0</td>\n",
       "      <td>Source Verified</td>\n",
       "      <td>D</td>\n",
       "      <td>24.74</td>\n",
       "      <td>MORTGAGE</td>\n",
       "      <td>2.0</td>\n",
       "      <td>10.0</td>\n",
       "      <td>33.3</td>\n",
       "      <td>...</td>\n",
       "      <td>NaN</td>\n",
       "      <td>NaN</td>\n",
       "      <td>home_improvement</td>\n",
       "      <td>25000.0</td>\n",
       "      <td>21.85</td>\n",
       "      <td>60 months</td>\n",
       "      <td>688.35</td>\n",
       "      <td>2811.27</td>\n",
       "      <td>Current</td>\n",
       "      <td>0.00</td>\n",
       "    </tr>\n",
       "    <tr>\n",
       "      <th>77861711</th>\n",
       "      <td>Correctional officer</td>\n",
       "      <td>10+ years</td>\n",
       "      <td>50000.0</td>\n",
       "      <td>Verified</td>\n",
       "      <td>C</td>\n",
       "      <td>29.31</td>\n",
       "      <td>MORTGAGE</td>\n",
       "      <td>1.0</td>\n",
       "      <td>8.0</td>\n",
       "      <td>0.0</td>\n",
       "      <td>...</td>\n",
       "      <td>NaN</td>\n",
       "      <td>NaN</td>\n",
       "      <td>debt_consolidation</td>\n",
       "      <td>14400.0</td>\n",
       "      <td>15.31</td>\n",
       "      <td>36 months</td>\n",
       "      <td>501.37</td>\n",
       "      <td>2310.49</td>\n",
       "      <td>Charged Off</td>\n",
       "      <td>6430.36</td>\n",
       "    </tr>\n",
       "    <tr>\n",
       "      <th>...</th>\n",
       "      <td>...</td>\n",
       "      <td>...</td>\n",
       "      <td>...</td>\n",
       "      <td>...</td>\n",
       "      <td>...</td>\n",
       "      <td>...</td>\n",
       "      <td>...</td>\n",
       "      <td>...</td>\n",
       "      <td>...</td>\n",
       "      <td>...</td>\n",
       "      <td>...</td>\n",
       "      <td>...</td>\n",
       "      <td>...</td>\n",
       "      <td>...</td>\n",
       "      <td>...</td>\n",
       "      <td>...</td>\n",
       "      <td>...</td>\n",
       "      <td>...</td>\n",
       "      <td>...</td>\n",
       "      <td>...</td>\n",
       "      <td>...</td>\n",
       "    </tr>\n",
       "    <tr>\n",
       "      <th>999338</th>\n",
       "      <td>T. Rowe Price</td>\n",
       "      <td>4 years</td>\n",
       "      <td>55000.0</td>\n",
       "      <td>Verified</td>\n",
       "      <td>B</td>\n",
       "      <td>29.26</td>\n",
       "      <td>RENT</td>\n",
       "      <td>NaN</td>\n",
       "      <td>7.0</td>\n",
       "      <td>NaN</td>\n",
       "      <td>...</td>\n",
       "      <td>NaN</td>\n",
       "      <td>Borrower added on 11/01/11 &gt; Looking to use ...</td>\n",
       "      <td>debt_consolidation</td>\n",
       "      <td>20000.0</td>\n",
       "      <td>12.69</td>\n",
       "      <td>60 months</td>\n",
       "      <td>451.90</td>\n",
       "      <td>20000.00</td>\n",
       "      <td>Fully Paid</td>\n",
       "      <td>0.00</td>\n",
       "    </tr>\n",
       "    <tr>\n",
       "      <th>73222117</th>\n",
       "      <td>Executive Assistant</td>\n",
       "      <td>10+ years</td>\n",
       "      <td>85000.0</td>\n",
       "      <td>Verified</td>\n",
       "      <td>B</td>\n",
       "      <td>33.05</td>\n",
       "      <td>RENT</td>\n",
       "      <td>1.0</td>\n",
       "      <td>25.0</td>\n",
       "      <td>90.0</td>\n",
       "      <td>...</td>\n",
       "      <td>NaN</td>\n",
       "      <td>NaN</td>\n",
       "      <td>debt_consolidation</td>\n",
       "      <td>3000.0</td>\n",
       "      <td>9.75</td>\n",
       "      <td>36 months</td>\n",
       "      <td>96.45</td>\n",
       "      <td>3000.00</td>\n",
       "      <td>Fully Paid</td>\n",
       "      <td>0.00</td>\n",
       "    </tr>\n",
       "    <tr>\n",
       "      <th>129396054</th>\n",
       "      <td>Field Manager</td>\n",
       "      <td>10+ years</td>\n",
       "      <td>55000.0</td>\n",
       "      <td>Source Verified</td>\n",
       "      <td>D</td>\n",
       "      <td>15.36</td>\n",
       "      <td>OWN</td>\n",
       "      <td>1.0</td>\n",
       "      <td>7.0</td>\n",
       "      <td>75.0</td>\n",
       "      <td>...</td>\n",
       "      <td>NaN</td>\n",
       "      <td>NaN</td>\n",
       "      <td>debt_consolidation</td>\n",
       "      <td>14400.0</td>\n",
       "      <td>17.47</td>\n",
       "      <td>60 months</td>\n",
       "      <td>361.53</td>\n",
       "      <td>1975.94</td>\n",
       "      <td>Current</td>\n",
       "      <td>0.00</td>\n",
       "    </tr>\n",
       "    <tr>\n",
       "      <th>51876926</th>\n",
       "      <td>Office Manager</td>\n",
       "      <td>10+ years</td>\n",
       "      <td>42000.0</td>\n",
       "      <td>Not Verified</td>\n",
       "      <td>C</td>\n",
       "      <td>20.85</td>\n",
       "      <td>MORTGAGE</td>\n",
       "      <td>6.0</td>\n",
       "      <td>9.0</td>\n",
       "      <td>100.0</td>\n",
       "      <td>...</td>\n",
       "      <td>NaN</td>\n",
       "      <td>NaN</td>\n",
       "      <td>debt_consolidation</td>\n",
       "      <td>8000.0</td>\n",
       "      <td>12.29</td>\n",
       "      <td>36 months</td>\n",
       "      <td>266.83</td>\n",
       "      <td>8000.00</td>\n",
       "      <td>Fully Paid</td>\n",
       "      <td>0.00</td>\n",
       "    </tr>\n",
       "    <tr>\n",
       "      <th>121031962</th>\n",
       "      <td>Owner &amp; President</td>\n",
       "      <td>6 years</td>\n",
       "      <td>111697.0</td>\n",
       "      <td>Verified</td>\n",
       "      <td>B</td>\n",
       "      <td>16.63</td>\n",
       "      <td>MORTGAGE</td>\n",
       "      <td>2.0</td>\n",
       "      <td>10.0</td>\n",
       "      <td>50.0</td>\n",
       "      <td>...</td>\n",
       "      <td>NaN</td>\n",
       "      <td>NaN</td>\n",
       "      <td>other</td>\n",
       "      <td>10000.0</td>\n",
       "      <td>9.44</td>\n",
       "      <td>36 months</td>\n",
       "      <td>320.05</td>\n",
       "      <td>4388.51</td>\n",
       "      <td>Current</td>\n",
       "      <td>0.00</td>\n",
       "    </tr>\n",
       "  </tbody>\n",
       "</table>\n",
       "<p>140000 rows × 24 columns</p>\n",
       "</div>"
      ],
      "text/plain": [
       "                          empleo antigüedad_empleo  ingresos  \\\n",
       "id_cliente                                                     \n",
       "137387967       Hvac technician            3 years   54000.0   \n",
       "46641215                  Banker           5 years  135000.0   \n",
       "87998444      executive director           9 years  188000.0   \n",
       "131289518                    NaN         10+ years   72777.0   \n",
       "77861711    Correctional officer         10+ years   50000.0   \n",
       "...                          ...               ...       ...   \n",
       "999338             T. Rowe Price           4 years   55000.0   \n",
       "73222117     Executive Assistant         10+ years   85000.0   \n",
       "129396054          Field Manager         10+ years   55000.0   \n",
       "51876926          Office Manager         10+ years   42000.0   \n",
       "121031962      Owner & President           6 years  111697.0   \n",
       "\n",
       "           ingresos_verificados rating    dti  vivienda  num_hipotecas  \\\n",
       "id_cliente                                                               \n",
       "137387967       Source Verified      A  19.31  MORTGAGE            2.0   \n",
       "46641215               Verified      A  14.68      RENT            0.0   \n",
       "87998444        Source Verified      B  11.69  MORTGAGE            3.0   \n",
       "131289518       Source Verified      D  24.74  MORTGAGE            2.0   \n",
       "77861711               Verified      C  29.31  MORTGAGE            1.0   \n",
       "...                         ...    ...    ...       ...            ...   \n",
       "999338                 Verified      B  29.26      RENT            NaN   \n",
       "73222117               Verified      B  33.05      RENT            1.0   \n",
       "129396054       Source Verified      D  15.36       OWN            1.0   \n",
       "51876926           Not Verified      C  20.85  MORTGAGE            6.0   \n",
       "121031962              Verified      B  16.63  MORTGAGE            2.0   \n",
       "\n",
       "            num_lineas_credito  porc_tarjetas_75p  ...  id_prestamo  \\\n",
       "id_cliente                                         ...                \n",
       "137387967                 10.0               33.3  ...          NaN   \n",
       "46641215                  19.0                0.0  ...          NaN   \n",
       "87998444                  15.0                0.0  ...          NaN   \n",
       "131289518                 10.0               33.3  ...          NaN   \n",
       "77861711                   8.0                0.0  ...          NaN   \n",
       "...                        ...                ...  ...          ...   \n",
       "999338                     7.0                NaN  ...          NaN   \n",
       "73222117                  25.0               90.0  ...          NaN   \n",
       "129396054                  7.0               75.0  ...          NaN   \n",
       "51876926                   9.0              100.0  ...          NaN   \n",
       "121031962                 10.0               50.0  ...          NaN   \n",
       "\n",
       "                                                  descripcion  \\\n",
       "id_cliente                                                      \n",
       "137387967                                                 NaN   \n",
       "46641215                                                  NaN   \n",
       "87998444                                                  NaN   \n",
       "131289518                                                 NaN   \n",
       "77861711                                                  NaN   \n",
       "...                                                       ...   \n",
       "999338        Borrower added on 11/01/11 > Looking to use ...   \n",
       "73222117                                                  NaN   \n",
       "129396054                                                 NaN   \n",
       "51876926                                                  NaN   \n",
       "121031962                                                 NaN   \n",
       "\n",
       "                     finalidad  principal  tipo_interes  num_cuotas imp_cuota  \\\n",
       "id_cliente                                                                      \n",
       "137387967   debt_consolidation    15000.0          7.21   36 months    464.60   \n",
       "46641215    debt_consolidation    24000.0          6.39   36 months    734.38   \n",
       "87998444           credit_card    27000.0          8.99   60 months    560.35   \n",
       "131289518     home_improvement    25000.0         21.85   60 months    688.35   \n",
       "77861711    debt_consolidation    14400.0         15.31   36 months    501.37   \n",
       "...                        ...        ...           ...         ...       ...   \n",
       "999338      debt_consolidation    20000.0         12.69   60 months    451.90   \n",
       "73222117    debt_consolidation     3000.0          9.75   36 months     96.45   \n",
       "129396054   debt_consolidation    14400.0         17.47   60 months    361.53   \n",
       "51876926    debt_consolidation     8000.0         12.29   36 months    266.83   \n",
       "121031962                other    10000.0          9.44   36 months    320.05   \n",
       "\n",
       "            imp_amortizado       estado imp_recuperado  \n",
       "id_cliente                                              \n",
       "137387967          2669.06      Current           0.00  \n",
       "46641215          24000.00   Fully Paid           0.00  \n",
       "87998444          12443.00      Current           0.00  \n",
       "131289518          2811.27      Current           0.00  \n",
       "77861711           2310.49  Charged Off        6430.36  \n",
       "...                    ...          ...            ...  \n",
       "999338            20000.00   Fully Paid           0.00  \n",
       "73222117           3000.00   Fully Paid           0.00  \n",
       "129396054          1975.94      Current           0.00  \n",
       "51876926           8000.00   Fully Paid           0.00  \n",
       "121031962          4388.51      Current           0.00  \n",
       "\n",
       "[140000 rows x 24 columns]"
      ]
     },
     "execution_count": 8,
     "metadata": {},
     "output_type": "execute_result"
    }
   ],
   "source": [
    "ruta_completa = ruta_proyecto + '/02_Datos/03_Trabajo/' + nombre_fichero_datos\n",
    "\n",
    "df = pd.read_csv(ruta_completa,index_col='id_cliente')\n",
    "df"
   ]
  },
  {
   "cell_type": "markdown",
   "id": "d2d5443c",
   "metadata": {},
   "source": [
    "## VISIÓN GENERAL"
   ]
  },
  {
   "cell_type": "code",
   "execution_count": 10,
   "id": "976c8ac6",
   "metadata": {},
   "outputs": [
    {
     "name": "stdout",
     "output_type": "stream",
     "text": [
      "<class 'pandas.core.frame.DataFrame'>\n",
      "Index: 140000 entries, 137387967 to 121031962\n",
      "Data columns (total 24 columns):\n",
      " #   Column                       Non-Null Count   Dtype  \n",
      "---  ------                       --------------   -----  \n",
      " 0   empleo                       129738 non-null  object \n",
      " 1   antigüedad_empleo            131037 non-null  object \n",
      " 2   ingresos                     140000 non-null  float64\n",
      " 3   ingresos_verificados         140000 non-null  object \n",
      " 4   rating                       140000 non-null  object \n",
      " 5   dti                          139900 non-null  float64\n",
      " 6   vivienda                     140000 non-null  object \n",
      " 7   num_hipotecas                136846 non-null  float64\n",
      " 8   num_lineas_credito           139998 non-null  float64\n",
      " 9   porc_tarjetas_75p            135276 non-null  float64\n",
      " 10  porc_uso_revolving           139887 non-null  float64\n",
      " 11  num_cancelaciones_12meses    139993 non-null  float64\n",
      " 12  num_derogatorios             139998 non-null  float64\n",
      " 13  num_meses_desde_ult_retraso  68159 non-null   float64\n",
      " 14  id_prestamo                  0 non-null       float64\n",
      " 15  descripcion                  7838 non-null    object \n",
      " 16  finalidad                    140000 non-null  object \n",
      " 17  principal                    140000 non-null  float64\n",
      " 18  tipo_interes                 140000 non-null  float64\n",
      " 19  num_cuotas                   140000 non-null  object \n",
      " 20  imp_cuota                    140000 non-null  float64\n",
      " 21  imp_amortizado               140000 non-null  float64\n",
      " 22  estado                       140000 non-null  object \n",
      " 23  imp_recuperado               140000 non-null  float64\n",
      "dtypes: float64(15), object(9)\n",
      "memory usage: 26.7+ MB\n"
     ]
    }
   ],
   "source": [
    "df.info()"
   ]
  },
  {
   "cell_type": "markdown",
   "id": "158ee1d7",
   "metadata": {},
   "source": [
    "## TIPOS DE DATOS"
   ]
  },
  {
   "cell_type": "markdown",
   "id": "88162727",
   "metadata": {},
   "source": [
    "### Identificación"
   ]
  },
  {
   "cell_type": "code",
   "execution_count": 11,
   "id": "197a99c2",
   "metadata": {},
   "outputs": [
    {
     "data": {
      "text/plain": [
       "empleo                          object\n",
       "antigüedad_empleo               object\n",
       "ingresos                       float64\n",
       "ingresos_verificados            object\n",
       "rating                          object\n",
       "dti                            float64\n",
       "vivienda                        object\n",
       "num_hipotecas                  float64\n",
       "num_lineas_credito             float64\n",
       "porc_tarjetas_75p              float64\n",
       "porc_uso_revolving             float64\n",
       "num_cancelaciones_12meses      float64\n",
       "num_derogatorios               float64\n",
       "num_meses_desde_ult_retraso    float64\n",
       "id_prestamo                    float64\n",
       "descripcion                     object\n",
       "finalidad                       object\n",
       "principal                      float64\n",
       "tipo_interes                   float64\n",
       "num_cuotas                      object\n",
       "imp_cuota                      float64\n",
       "imp_amortizado                 float64\n",
       "estado                          object\n",
       "imp_recuperado                 float64\n",
       "dtype: object"
      ]
     },
     "execution_count": 11,
     "metadata": {},
     "output_type": "execute_result"
    }
   ],
   "source": [
    "df.dtypes"
   ]
  },
  {
   "cell_type": "markdown",
   "id": "cc8d4a22",
   "metadata": {},
   "source": [
    "## VALORES ÚNICOS"
   ]
  },
  {
   "cell_type": "markdown",
   "id": "f21f0e36",
   "metadata": {},
   "source": [
    "### Identificación"
   ]
  },
  {
   "cell_type": "code",
   "execution_count": 12,
   "id": "6e53e444",
   "metadata": {},
   "outputs": [
    {
     "data": {
      "text/plain": [
       "id_prestamo                        0\n",
       "num_cuotas                         2\n",
       "ingresos_verificados               3\n",
       "vivienda                           6\n",
       "num_cancelaciones_12meses          7\n",
       "rating                             7\n",
       "estado                             8\n",
       "antigüedad_empleo                 11\n",
       "finalidad                         14\n",
       "num_derogatorios                  17\n",
       "num_hipotecas                     26\n",
       "num_lineas_credito                63\n",
       "num_meses_desde_ult_retraso      129\n",
       "porc_tarjetas_75p                172\n",
       "tipo_interes                     588\n",
       "porc_uso_revolving              1100\n",
       "principal                       1471\n",
       "dti                             5308\n",
       "descripcion                     7814\n",
       "imp_recuperado                 10601\n",
       "ingresos                       11660\n",
       "imp_cuota                      33724\n",
       "empleo                         54590\n",
       "imp_amortizado                 57713\n",
       "dtype: int64"
      ]
     },
     "execution_count": 12,
     "metadata": {},
     "output_type": "execute_result"
    }
   ],
   "source": [
    "df.nunique().sort_values()"
   ]
  },
  {
   "cell_type": "markdown",
   "id": "b1d1a668",
   "metadata": {},
   "source": [
    "### Corrección"
   ]
  },
  {
   "cell_type": "code",
   "execution_count": 13,
   "id": "62f7d14e",
   "metadata": {},
   "outputs": [],
   "source": [
    "df.drop(columns = 'id_prestamo', inplace = True)"
   ]
  },
  {
   "cell_type": "markdown",
   "id": "e25cfc89",
   "metadata": {},
   "source": [
    "## DUPLICADOS"
   ]
  },
  {
   "cell_type": "markdown",
   "id": "8a079ed3",
   "metadata": {},
   "source": [
    "### Identificación"
   ]
  },
  {
   "cell_type": "code",
   "execution_count": 14,
   "id": "f5b23bfc",
   "metadata": {
    "scrolled": true
   },
   "outputs": [
    {
     "data": {
      "text/plain": [
       "0"
      ]
     },
     "execution_count": 14,
     "metadata": {},
     "output_type": "execute_result"
    }
   ],
   "source": [
    "df.duplicated().sum()"
   ]
  },
  {
   "cell_type": "markdown",
   "id": "632ec2cd",
   "metadata": {},
   "source": [
    "## SEPARAR NUMÉRICAS Y CATEGÓRICAS"
   ]
  },
  {
   "cell_type": "markdown",
   "id": "573a61ac",
   "metadata": {},
   "source": [
    "### Categóricas"
   ]
  },
  {
   "cell_type": "code",
   "execution_count": 15,
   "id": "47a7eece",
   "metadata": {},
   "outputs": [],
   "source": [
    "cat = df.select_dtypes(exclude = 'number').copy()"
   ]
  },
  {
   "cell_type": "markdown",
   "id": "41756893",
   "metadata": {},
   "source": [
    "### Numéricas"
   ]
  },
  {
   "cell_type": "code",
   "execution_count": 16,
   "id": "59140e9a",
   "metadata": {},
   "outputs": [],
   "source": [
    "num = df.select_dtypes(include='number').copy()"
   ]
  },
  {
   "cell_type": "markdown",
   "id": "5e7d8e7e",
   "metadata": {},
   "source": [
    "## GESTIÓN DE CATEGÓRICAS"
   ]
  },
  {
   "cell_type": "markdown",
   "id": "5b5808b7",
   "metadata": {},
   "source": [
    "### Nulos"
   ]
  },
  {
   "cell_type": "markdown",
   "id": "5c08ca55",
   "metadata": {},
   "source": [
    "#### Identificación"
   ]
  },
  {
   "cell_type": "code",
   "execution_count": 17,
   "id": "da49ae63",
   "metadata": {
    "scrolled": true
   },
   "outputs": [
    {
     "data": {
      "text/plain": [
       "descripcion             132162\n",
       "empleo                   10262\n",
       "antigüedad_empleo         8963\n",
       "ingresos_verificados         0\n",
       "rating                       0\n",
       "vivienda                     0\n",
       "finalidad                    0\n",
       "num_cuotas                   0\n",
       "estado                       0\n",
       "dtype: int64"
      ]
     },
     "execution_count": 17,
     "metadata": {},
     "output_type": "execute_result"
    }
   ],
   "source": [
    "cat.isna().sum().sort_values(ascending = False)"
   ]
  },
  {
   "cell_type": "code",
   "execution_count": 18,
   "id": "cf068c4e",
   "metadata": {},
   "outputs": [
    {
     "data": {
      "text/plain": [
       "descripcion\n",
       "NaN                                                                                                                                                                                                                                                                                                                                                                                                                                                                                                                                                                                                                                                                                                                                                                                                                                                                                                                                                                                                                                                                                                                                                                                                                                                                                                                                                                                                                                                                                                                                                                                                                                                                                                                                                                                                                                                                                                                                                                                                                                                                                                                                                                                                                                                                                                                                                                                                                                                                                                                                                                                                                                                                                                                                                                                                                                                                                                                                                                                                                                                                                                                                                                                                                                                                                                                                                                                                                                                                                                                                                                                                                                                                             132162\n",
       "                                                                                                                                                                                                                                                                                                                                                                                                                                                                                                                                                                                                                                                                                                                                                                                                                                                                                                                                                                                                                                                                                                                                                                                                                                                                                                                                                                                                                                                                                                                                                                                                                                                                                                                                                                                                                                                                                                                                                                                                                                                                                                                                                                                                                                                                                                                                                                                                                                                                                                                                                                                                                                                                                                                                                                                                                                                                                                                                                                                                                                                                                                                                                                                                                                                                                                                                                                                                                                                                                                                                                                                                                                                                                    16\n",
       "Debt consolidation                                                                                                                                                                                                                                                                                                                                                                                                                                                                                                                                                                                                                                                                                                                                                                                                                                                                                                                                                                                                                                                                                                                                                                                                                                                                                                                                                                                                                                                                                                                                                                                                                                                                                                                                                                                                                                                                                                                                                                                                                                                                                                                                                                                                                                                                                                                                                                                                                                                                                                                                                                                                                                                                                                                                                                                                                                                                                                                                                                                                                                                                                                                                                                                                                                                                                                                                                                                                                                                                                                                                                                                                                                                                   2\n",
       "  Borrower added on 10/07/13 > Debt consolidation<br>                                                                                                                                                                                                                                                                                                                                                                                                                                                                                                                                                                                                                                                                                                                                                                                                                                                                                                                                                                                                                                                                                                                                                                                                                                                                                                                                                                                                                                                                                                                                                                                                                                                                                                                                                                                                                                                                                                                                                                                                                                                                                                                                                                                                                                                                                                                                                                                                                                                                                                                                                                                                                                                                                                                                                                                                                                                                                                                                                                                                                                                                                                                                                                                                                                                                                                                                                                                                                                                                                                                                                                                                                                2\n",
       "  Borrower added on 01/26/14 > Debt Consolidation<br>                                                                                                                                                                                                                                                                                                                                                                                                                                                                                                                                                                                                                                                                                                                                                                                                                                                                                                                                                                                                                                                                                                                                                                                                                                                                                                                                                                                                                                                                                                                                                                                                                                                                                                                                                                                                                                                                                                                                                                                                                                                                                                                                                                                                                                                                                                                                                                                                                                                                                                                                                                                                                                                                                                                                                                                                                                                                                                                                                                                                                                                                                                                                                                                                                                                                                                                                                                                                                                                                                                                                                                                                                                2\n",
       "                                                                                                                                                                                                                                                                                                                                                                                                                                                                                                                                                                                                                                                                                                                                                                                                                                                                                                                                                                                                                                                                                                                                                                                                                                                                                                                                                                                                                                                                                                                                                                                                                                                                                                                                                                                                                                                                                                                                                                                                                                                                                                                                                                                                                                                                                                                                                                                                                                                                                                                                                                                                                                                                                                                                                                                                                                                                                                                                                                                                                                                                                                                                                                                                                                                                                                                                                                                                                                                                                                                                                                                                                                                                                 ...  \n",
       "  Borrower added on 10/13/10 > I am requesting this loan because I have several accounts that I pay more than the monthly payment which equals to $700 monthly and I am left living paycheck to paycheck. If I am given this loan I can pay all my debt and be able to pay a lower monthly payment to just one account (this loan). I can definitely afford the monthly payment on the presented loan. I just want to get rid of these debts on my account and pay one monthly payment to this loan if given. My credit is decent and I make about $2000.00 monthly. I do not pay rent my husband handles rent I pay for my credit accounts ($700.00), my car payment ($636.01) and neccesities for myself and my family. Which leaves about a $600.00 a month for myself, my son and my husband to whatever groceries, neccesities and etc. needed. Please understand my brief description and give the most consideration to my account if possible. I would greatly appreciate it. Please contact me if you have any questions or concerns. I greatly appreciate it! Thank you!<br/><br/>Robyn<br/> Borrower added on 10/13/10 > I also assure you that I am a very responsible &amp; reliable adult. I haven't been late on any of my bills since 2004 (I turned 18 in 2003 and made some immature mistakes) I try to pay more than the minimum payment. I work part time, I go to school full time for my Bachelors in Nursing which I will be getting in 2012 and I am 1st time mother of a 15 month old. This is another brief description about me to help guide you to make any amount of consideration on your decision about my loan. Please feel free to contact me for any questions or concerns. I will greatly appreciate everything and anything that you plan to offer. I hope my additional information will help you make your decision more easy and comfortable. Thank you.<br/> Borrower added on 10/14/10 > To clear any confusion, I saw that my profile stated I make $4167/monthly this includes mine's and my husband's monthly income. His monthly income goes all to rent, utilities, cable, &amp; phones. I apologize if that has caused any confusion because I stated above that I make about $2000/monthly. I also wanted to take the time to break down my monthly expenses to help give you an idea how I manage my finances.<br/>Credit Cards: <br/>Chase $1997 Monthly payment (MP): $200-$300 <br/>Kay Jewelers $2200 MP: $225-$300<br/>Orchard $286 MP: $30-$50<br/>Capital $741 MP: $100-$125<br/>Rewardzone $733 MP: $100-$125<br/>TOTAL MP: $655-$900 plus $636 monthly car payment = $1291-$1536 TOTAL towards debt and car <br/>Which then leaves $464-$709 for everything else such as gas, groceries, food, necessities and things that are needed.<br/><br/>If I am approved for this loan it will help improve my credit score because all my cards would be paid off, I would be able to make a much more affordable monthly payment towards one account (this loan) and my family and I wouldn't have to struggle living paycheck to paycheck. <br/><br/>The reason why I got in so much debt was because of school. My first 2 years of college, I did not qualify for financial aid so I had to use my cards to help pay for my books, school supplies and school expenses. Now that I am working part-time I qualify for grants but I am still left with these debts. I would love to just consolidate them all into one lower monthly payment and get out of having to keep up with all of them. This loan will definitely do that. Thank you again for your time and consideration. I appreciate it all greatly!<br/>         1\n",
       "  Borrower added on 08/28/13 > Consolidation<br>                                                                                                                                                                                                                                                                                                                                                                                                                                                                                                                                                                                                                                                                                                                                                                                                                                                                                                                                                                                                                                                                                                                                                                                                                                                                                                                                                                                                                                                                                                                                                                                                                                                                                                                                                                                                                                                                                                                                                                                                                                                                                                                                                                                                                                                                                                                                                                                                                                                                                                                                                                                                                                                                                                                                                                                                                                                                                                                                                                                                                                                                                                                                                                                                                                                                                                                                                                                                                                                                                                                                                                                                                                     1\n",
       " I am looking to consolidate my current credit card dept aquired during a recent relocation.  The debt was aquired putting a down payment on and furnishing a new apartment.  I have good credit, have never defaulted on any payment and am looking to save myself money on interest rates.   I have a very reliable source of income that will allow me to meet future payments and an income level that I can maintain the payments along with all other cost of living expenses.                                                                                                                                                                                                                                                                                                                                                                                                                                                                                                                                                                                                                                                                                                                                                                                                                                                                                                                                                                                                                                                                                                                                                                                                                                                                                                                                                                                                                                                                                                                                                                                                                                                                                                                                                                                                                                                                                                                                                                                                                                                                                                                                                                                                                                                                                                                                                                                                                                                                                                                                                                                                                                                                                                                                                                                                                                                                                                                                                                                                                                                                                                                                                                                                 1\n",
       "I need to relocate my 15 year old business to a smaller space on the next block.  I will be able to lower my overhead and increase sales since this location is less rent, provides more visibility and walk by traffic.   This loan will allow me to clear my credit card debt and renovate a new space in accordance with the building codes.  This move will keep me even for the first year but after that will improve my profits dramatically.  In my 15 year tenure, I have had 3 credit cards which have been paid on time and always more than the minimum payment.  I pay all of my suppliers and employees at the time of service - cash.  I have a good reputation in town and have been involved in several committees and fund raising activities throughout the years.  I remain committed to my business of antiques, clock repair and a wonderful tearoom - which continues to be discovered by more people and is receiving accolades.                                                                                                                                                                                                                                                                                                                                                                                                                                                                                                                                                                                                                                                                                                                                                                                                                                                                                                                                                                                                                                                                                                                                                                                                                                                                                                                                                                                                                                                                                                                                                                                                                                                                                                                                                                                                                                                                                                                                                                                                                                                                                                                                                                                                                                                                                                                                                                                                                                                                                                                                                                                                                                                                                                                             1\n",
       "  Borrower added on 11/01/11 > Looking to use this loan to repay my large credit card debits.  I have always paid all of my debt payments on time, and am trying to get out from underneath all of this credit card debt now.  I have an extremely safe job as I work for a very conservative international mutual fund company, which I have been employed by for 5 years now.  Please let me know if you would like any further information about this loan.<br/><br/>Thanks!<br/>                                                                                                                                                                                                                                                                                                                                                                                                                                                                                                                                                                                                                                                                                                                                                                                                                                                                                                                                                                                                                                                                                                                                                                                                                                                                                                                                                                                                                                                                                                                                                                                                                                                                                                                                                                                                                                                                                                                                                                                                                                                                                                                                                                                                                                                                                                                                                                                                                                                                                                                                                                                                                                                                                                                                                                                                                                                                                                                                                                                                                                                                                                                                                                                                 1\n",
       "Name: count, Length: 7815, dtype: int64"
      ]
     },
     "execution_count": 18,
     "metadata": {},
     "output_type": "execute_result"
    }
   ],
   "source": [
    "cat.descripcion.value_counts(dropna=False)"
   ]
  },
  {
   "cell_type": "code",
   "execution_count": 19,
   "id": "7ff91f19",
   "metadata": {},
   "outputs": [
    {
     "data": {
      "text/plain": [
       "empleo\n",
       "NaN                      10262\n",
       "Teacher                   2509\n",
       "Manager                   2168\n",
       "Owner                     1345\n",
       "Registered Nurse           994\n",
       "                         ...  \n",
       "Food and beverage            1\n",
       "Senior JDE CNC               1\n",
       "Dr Jacqueline Heller         1\n",
       "Menu Development Chef        1\n",
       "Owner & President            1\n",
       "Name: count, Length: 54591, dtype: int64"
      ]
     },
     "execution_count": 19,
     "metadata": {},
     "output_type": "execute_result"
    }
   ],
   "source": [
    "cat.empleo.value_counts(dropna=False)"
   ]
  },
  {
   "cell_type": "code",
   "execution_count": 20,
   "id": "60e0b68b",
   "metadata": {},
   "outputs": [
    {
     "data": {
      "text/plain": [
       "antigüedad_empleo\n",
       "10+ years    46250\n",
       "2 years      12491\n",
       "< 1 year     11864\n",
       "3 years      11271\n",
       "1 year        9146\n",
       "NaN           8963\n",
       "5 years       8744\n",
       "4 years       8429\n",
       "6 years       6374\n",
       "7 years       5753\n",
       "8 years       5748\n",
       "9 years       4967\n",
       "Name: count, dtype: int64"
      ]
     },
     "execution_count": 20,
     "metadata": {},
     "output_type": "execute_result"
    }
   ],
   "source": [
    "cat.antigüedad_empleo.value_counts(dropna=False)"
   ]
  },
  {
   "cell_type": "markdown",
   "id": "6802d575",
   "metadata": {},
   "source": [
    "#### Corrección"
   ]
  },
  {
   "cell_type": "markdown",
   "id": "ebeb52a6",
   "metadata": {},
   "source": [
    "##### Imputar por un valor"
   ]
  },
  {
   "cell_type": "markdown",
   "id": "2cba1c3c",
   "metadata": {},
   "source": [
    "###### Variables a imputar"
   ]
  },
  {
   "cell_type": "code",
   "execution_count": 21,
   "id": "4050ef9f",
   "metadata": {},
   "outputs": [],
   "source": [
    "var_imputar_valor = ['descripcion','empleo', 'antigüedad_empleo']"
   ]
  },
  {
   "cell_type": "markdown",
   "id": "fa866ac6",
   "metadata": {},
   "source": [
    "###### Valor por el que imputar"
   ]
  },
  {
   "cell_type": "code",
   "execution_count": 22,
   "id": "10abb34a",
   "metadata": {},
   "outputs": [],
   "source": [
    "valor = 'DESCONOCIDO'"
   ]
  },
  {
   "cell_type": "markdown",
   "id": "78d10252",
   "metadata": {},
   "source": [
    "###### Imputar"
   ]
  },
  {
   "cell_type": "code",
   "execution_count": 23,
   "id": "f16e8491",
   "metadata": {},
   "outputs": [],
   "source": [
    "cat[var_imputar_valor] = cat[var_imputar_valor].fillna(valor)"
   ]
  },
  {
   "cell_type": "markdown",
   "id": "913cd65d",
   "metadata": {},
   "source": [
    "### Atípicos"
   ]
  },
  {
   "cell_type": "markdown",
   "id": "5a575397",
   "metadata": {},
   "source": [
    "#### Categorías poco frecuentes"
   ]
  },
  {
   "cell_type": "code",
   "execution_count": 25,
   "id": "841c4b5a",
   "metadata": {},
   "outputs": [
    {
     "data": {
      "text/plain": [
       "empleo                  54591\n",
       "antigüedad_empleo          12\n",
       "ingresos_verificados        3\n",
       "rating                      7\n",
       "vivienda                    6\n",
       "descripcion              7815\n",
       "finalidad                  14\n",
       "num_cuotas                  2\n",
       "estado                      8\n",
       "dtype: int64"
      ]
     },
     "execution_count": 25,
     "metadata": {},
     "output_type": "execute_result"
    }
   ],
   "source": [
    "cat.nunique()"
   ]
  },
  {
   "cell_type": "markdown",
   "id": "db3a72a6",
   "metadata": {},
   "source": [
    "## GESTIÓN DE NUMÉRICAS"
   ]
  },
  {
   "cell_type": "markdown",
   "id": "d65bd06a",
   "metadata": {},
   "source": [
    "### Nulos"
   ]
  },
  {
   "cell_type": "markdown",
   "id": "e5ee8416",
   "metadata": {},
   "source": [
    "#### Identificación"
   ]
  },
  {
   "cell_type": "code",
   "execution_count": 26,
   "id": "c9f054a3",
   "metadata": {
    "scrolled": true
   },
   "outputs": [
    {
     "data": {
      "text/plain": [
       "num_meses_desde_ult_retraso    71841\n",
       "porc_tarjetas_75p               4724\n",
       "num_hipotecas                   3154\n",
       "porc_uso_revolving               113\n",
       "dti                              100\n",
       "num_cancelaciones_12meses          7\n",
       "num_lineas_credito                 2\n",
       "num_derogatorios                   2\n",
       "ingresos                           0\n",
       "principal                          0\n",
       "tipo_interes                       0\n",
       "imp_cuota                          0\n",
       "imp_amortizado                     0\n",
       "imp_recuperado                     0\n",
       "dtype: int64"
      ]
     },
     "execution_count": 26,
     "metadata": {},
     "output_type": "execute_result"
    }
   ],
   "source": [
    "num.isna().sum().sort_values(ascending = False)"
   ]
  },
  {
   "cell_type": "code",
   "execution_count": 27,
   "id": "53098f8d",
   "metadata": {},
   "outputs": [
    {
     "data": {
      "text/plain": [
       "<Axes: xlabel='num_meses_desde_ult_retraso'>"
      ]
     },
     "execution_count": 27,
     "metadata": {},
     "output_type": "execute_result"
    },
    {
     "data": {
      "image/png": "[encoded data removed]",
      "text/plain": [
       "<Figure size 1200x600 with 1 Axes>"
      ]
     },
     "metadata": {},
     "output_type": "display_data"
    }
   ],
   "source": [
    "num.num_meses_desde_ult_retraso.value_counts().sort_index().plot.bar(figsize=(12,6))"
   ]
  },
  {
   "cell_type": "code",
   "execution_count": 45,
   "id": "5bfd3bfc",
   "metadata": {},
   "outputs": [
    {
     "data": {
      "text/plain": [
       "dti\n",
       "100.23    1\n",
       "100.40    1\n",
       "100.45    1\n",
       "100.68    1\n",
       "101.20    1\n",
       "         ..\n",
       "599.28    1\n",
       "707.60    1\n",
       "756.46    1\n",
       "815.66    1\n",
       "999.00    8\n",
       "Name: count, Length: 158, dtype: int64"
      ]
     },
     "execution_count": 45,
     "metadata": {},
     "output_type": "execute_result"
    }
   ],
   "source": [
    "num.loc[num.dti>100].dti.value_counts().sort_index()"
   ]
  },
  {
   "cell_type": "markdown",
   "id": "0c355993",
   "metadata": {},
   "source": [
    "Hay pocos ceros por lo que vamos a hacer la asunción de que los nulos representan 0. Esto se debe a la naturaleza de la variable donde creemos que debería haber mayor proporción de 0.\n"
   ]
  },
  {
   "cell_type": "markdown",
   "id": "1b7cb2c4",
   "metadata": {},
   "source": [
    "#### Corrección"
   ]
  },
  {
   "cell_type": "markdown",
   "id": "70d7a1c5",
   "metadata": {},
   "source": [
    "###### Imputar con 0\n"
   ]
  },
  {
   "cell_type": "code",
   "execution_count": 28,
   "id": "887a4106",
   "metadata": {},
   "outputs": [],
   "source": [
    "num.fillna(0, inplace=True)"
   ]
  },
  {
   "cell_type": "markdown",
   "id": "82cb56e8",
   "metadata": {},
   "source": [
    "### Atípicos"
   ]
  },
  {
   "cell_type": "markdown",
   "id": "760baf8c",
   "metadata": {},
   "source": [
    "#### Por desviación típica"
   ]
  },
  {
   "cell_type": "markdown",
   "id": "4b508149",
   "metadata": {},
   "source": [
    "##### Identificación"
   ]
  },
  {
   "cell_type": "markdown",
   "id": "8ceda3d3",
   "metadata": {},
   "source": [
    "###### Definir el número de desviaciones típicas"
   ]
  },
  {
   "cell_type": "code",
   "execution_count": 29,
   "id": "2b7419cb",
   "metadata": {},
   "outputs": [],
   "source": [
    "num_desv_tip = 4"
   ]
  },
  {
   "cell_type": "markdown",
   "id": "942da237",
   "metadata": {},
   "source": [
    "###### Función que devuelve los índices de los atípicos"
   ]
  },
  {
   "cell_type": "code",
   "execution_count": 30,
   "id": "8a81f494",
   "metadata": {},
   "outputs": [],
   "source": [
    "def atipicos_desv_tip(variable, num_desv_tip = 4):\n",
    "    #sacamos los nulos por ahora\n",
    "    variable = variable.dropna()\n",
    "    #calculamos los límites\n",
    "    media = np.mean(variable)\n",
    "    sd = np.std(variable)\n",
    "    umbral = sd * num_desv_tip\n",
    "    lim_inf = media - umbral\n",
    "    lim_sup = media + umbral\n",
    "    #encontramos los índices de los que están fuera de los límites\n",
    "    indices = [indice for indice,valor in variable.items() if valor < lim_inf or valor > lim_sup]\n",
    "    return(indices)"
   ]
  },
  {
   "cell_type": "markdown",
   "id": "768e7398",
   "metadata": {},
   "source": [
    "###### Función que cuenta el número de atípicos"
   ]
  },
  {
   "cell_type": "code",
   "execution_count": 31,
   "id": "5c8f4462",
   "metadata": {},
   "outputs": [],
   "source": [
    "def conteo_atipicos(df,variable, num_desv_tip = 4):\n",
    "    atipicos = atipicos_desv_tip(df[variable], num_desv_tip)\n",
    "    return(df.loc[atipicos,variable].value_counts())"
   ]
  },
  {
   "cell_type": "markdown",
   "id": "5cd1e425",
   "metadata": {},
   "source": [
    "###### Variables a aplicar"
   ]
  },
  {
   "cell_type": "code",
   "execution_count": 32,
   "id": "cfbb3d88",
   "metadata": {},
   "outputs": [],
   "source": [
    "var_atipicos_dt = ['ingresos', 'principal', 'imp_cuota', 'imp_recuperado']"
   ]
  },
  {
   "cell_type": "markdown",
   "id": "ac400ced",
   "metadata": {},
   "source": [
    "###### Aplicar"
   ]
  },
  {
   "cell_type": "code",
   "execution_count": 33,
   "id": "c4b74e98",
   "metadata": {},
   "outputs": [
    {
     "name": "stdout",
     "output_type": "stream",
     "text": [
      "\n",
      "ingresos:\n",
      "\n",
      "ingresos\n",
      "500000.0    40\n",
      "450000.0    37\n",
      "750000.0    18\n",
      "600000.0    15\n",
      "650000.0    15\n",
      "            ..\n",
      "456000.0     1\n",
      "695000.0     1\n",
      "624706.0     1\n",
      "819348.0     1\n",
      "464000.0     1\n",
      "Name: count, Length: 133, dtype: int64\n",
      "\n",
      "principal:\n",
      "\n",
      "Series([], Name: count, dtype: int64)\n",
      "\n",
      "imp_cuota:\n",
      "\n",
      "imp_cuota\n",
      "1566.80    2\n",
      "1607.80    1\n",
      "1535.71    1\n",
      "1714.54    1\n",
      "1587.02    1\n",
      "Name: count, dtype: int64\n",
      "\n",
      "imp_recuperado:\n",
      "\n",
      "imp_recuperado\n",
      "4000.00    6\n",
      "3500.00    4\n",
      "6000.00    3\n",
      "8500.00    3\n",
      "3600.00    3\n",
      "          ..\n",
      "8320.00    1\n",
      "3795.13    1\n",
      "6960.00    1\n",
      "3633.34    1\n",
      "3500.75    1\n",
      "Name: count, Length: 1559, dtype: int64\n"
     ]
    }
   ],
   "source": [
    "for variable in var_atipicos_dt:\n",
    "    print('\\n' + variable + ':\\n')\n",
    "    print(conteo_atipicos(num,variable,num_desv_tip))"
   ]
  },
  {
   "cell_type": "code",
   "execution_count": 34,
   "id": "ae697f06",
   "metadata": {},
   "outputs": [
    {
     "data": {
      "text/plain": [
       "count    1.400000e+05\n",
       "mean     7.821503e+04\n",
       "std      9.114483e+04\n",
       "min      0.000000e+00\n",
       "25%      4.600000e+04\n",
       "50%      6.500000e+04\n",
       "75%      9.300000e+04\n",
       "max      1.099920e+07\n",
       "Name: ingresos, dtype: float64"
      ]
     },
     "execution_count": 34,
     "metadata": {},
     "output_type": "execute_result"
    }
   ],
   "source": [
    "num.ingresos.describe()"
   ]
  },
  {
   "cell_type": "markdown",
   "id": "5197aae9",
   "metadata": {},
   "source": [
    "##### Corrección"
   ]
  },
  {
   "cell_type": "markdown",
   "id": "2b9255dd",
   "metadata": {},
   "source": [
    "Eliminar los registros que tengan ingresos superiores a 300.000$"
   ]
  },
  {
   "cell_type": "markdown",
   "id": "e1233b46",
   "metadata": {},
   "source": [
    "*Cuidado: Si se eliminan registros hay que eliminarlos tanto de cat como de num*"
   ]
  },
  {
   "cell_type": "markdown",
   "id": "18548d6d",
   "metadata": {},
   "source": [
    "###### Variables a aplicar"
   ]
  },
  {
   "cell_type": "code",
   "execution_count": 35,
   "id": "81e715d9",
   "metadata": {},
   "outputs": [
    {
     "data": {
      "text/plain": [
       "array([ 97629676, 115087816,  30115373,  88149047,  58654033,  96702950,\n",
       "        83678168, 128295694,  57316403,  75468055, 104953803,  55380417,\n",
       "        60525500,  59101444,  74703269,  70631462, 114093587, 121891976,\n",
       "          458760, 145133997, 141509839,  99967449,  74845067, 113905376,\n",
       "        69967314,  69127903,  79015002,  33371205, 136270374,  97457564,\n",
       "         9746316, 110905405, 128843574,  93634763,  75358546,  39559363,\n",
       "        70592833, 142502569, 104959821, 107733336,  77517938,  93092543,\n",
       "       122689487,  57074442,  60831304,  40942257, 116881558, 115085050,\n",
       "         3630153,  78419419,  79390430, 141591423,  67427919,  92659557,\n",
       "       102523636, 128067879,  65087421,    225812, 131383380, 109322909,\n",
       "       141468030,  92035926, 137347897,  53252537,  60873988, 144125851,\n",
       "        12938159, 125518577,  65795964, 125737574, 132251779,   4044958,\n",
       "       134323203, 104319520, 145242693,   2367546,  96979795,    620850,\n",
       "        40385541,  74585468, 143147174, 124877413, 122347658, 140598256,\n",
       "         3643552, 103337282,   1533286,   2092000,  54248761, 145550896,\n",
       "       108846002, 102574792,  10105445,    572578, 135802748,  74523571,\n",
       "        46742451, 120205589, 114427471,  46808563,   1689366,  62236660,\n",
       "       109005497, 141424441,  88096112,  92104768,  88763639,  51898166,\n",
       "       119787910,  35286237,  14530758,  39360555,  93960404, 140851137,\n",
       "       110714446, 143570470,   6708897,  50515982,  91946592, 142066146,\n",
       "        51195674,  98197574, 127980829,  75768580,  77685207,  44796469,\n",
       "       134144026, 139043081,  81180268, 142447421,  60893886,  54988387,\n",
       "       144884757,  94479580, 127844526,  94413951, 134124984,  67989743,\n",
       "       142275020,  12596976,  50053165,   5648222,  44389210,   9775633,\n",
       "       134387430, 102586814, 133534237,   1601226,   4305549,  75447714,\n",
       "        66572368,  73302640, 100081315, 131712369,   4285539,  10156133,\n",
       "        43205964, 135655382,   1010101,  19096231,  74664210,  31396507,\n",
       "        67998530, 126797150,  76371883, 131284811, 108133540,  14500926,\n",
       "        63525013,  91029006, 122845355,  49874780, 138749234,  73724009,\n",
       "        68553398, 130334199,  65736947, 131986111,  75291684,  40492358,\n",
       "        77871568, 114143227, 141129471,  46397393,  77491016,    482198,\n",
       "       137369982,  87154949, 132293472, 130818455, 144817761,  46586567,\n",
       "        90427593, 103467994, 144712082,  98777269, 124035266,  41950206,\n",
       "        28744221,  69156599, 141423357, 141611571, 102476130,  67918262,\n",
       "       135559263, 111054792, 137489035, 137921648, 137316914, 133941950,\n",
       "       131507942, 139490749,  39897292,  82030165, 130895522, 119221362,\n",
       "        74516255,  69593596,  96202237,  12776568, 145357122,    561266,\n",
       "        54197540, 139807209, 114175196, 127391586,  78709637, 142179922,\n",
       "       122227510,  56864853, 107365904, 140958054, 143367322, 132003543,\n",
       "        44045403,  35003601, 144794804,  56662225,  96510442, 120055762,\n",
       "       109043561, 126492093, 111896883, 137039711,   9816896,   3930156,\n",
       "       124764970, 128536277,  61922933,  35703428, 122673742, 133378805,\n",
       "        96411541, 109915862,  55210374, 132203115,  42373852, 131314415,\n",
       "       139667548, 124793864, 104855156, 129516435,  28553097, 125178698,\n",
       "       136970362,  90275160, 129923979,  58270313,  39652015,  74682106,\n",
       "        95311620, 132435925,  73558953,  84996477, 122359952,  81110235,\n",
       "        57824714, 136495710, 143031787,  45364141,  79141935,  90190959,\n",
       "        46447735,   8494875,  67045514,  83262629, 104100603,  77021408,\n",
       "       126118103,  94130434,  52048938,  93267384,  93110198,  12625492,\n",
       "        75224867,  37217305,  79152000, 100075773,  58502629, 143289920,\n",
       "       103427531,  35683571,  91687865, 108782310, 127103613, 138871938,\n",
       "        48324582,  60286418, 144497304, 131441921,  23873784,  70962795,\n",
       "        72705326,  66401051,  90985447,  81467097, 119401404,   4094838,\n",
       "        90135284,  38429317,  76293515, 129105125,  64360491,  74975681,\n",
       "        86001719, 107594877,  21501092, 131620377, 117863523, 143115552,\n",
       "        99974574,  94058423,  98758708, 127100028,   4694842,  66434325,\n",
       "        62529469,  25346564,  53654695, 134070039, 118208082,  55179784,\n",
       "        50467050, 111896701, 126475552,  91538091, 121326036, 121326208,\n",
       "        66086633, 112877623, 126606988,  97304366,  60647806,  86962780,\n",
       "       131391959,  34352623,  46436300,  63385786, 103147580, 106493649,\n",
       "       134218440, 124804450, 139347011,  98093258, 127946315, 124778687,\n",
       "       121345628, 115351209, 125754008, 124139349, 105577516, 141414563,\n",
       "       136479269, 126467938,  10149577,  64097639, 131169155,  26699946,\n",
       "       145102584, 106845370,  73784861,  85370158,  72585852,  74816105,\n",
       "        11975868,  97376636,  14118015,  93911517, 124774802, 124066664,\n",
       "        64391289, 114219428,  60804291, 132067683,  28212093,   3057462,\n",
       "       142637793, 130344866,  65864699,  43245920,  54047516,   1682847,\n",
       "       140523543,  69081477,   4279342,  70000598,  63919025, 121758201,\n",
       "        18564727, 118198788,  94851269, 145074086, 136484144, 138773650,\n",
       "        73479902, 133212209, 139292469,  29743947,  94436457,  77815724,\n",
       "        84101665, 121907050,   4305663,   8968659, 134998359, 132242662,\n",
       "       138248494,  59023219,  50627726, 126279677,  70836049,  14638033,\n",
       "       131466556, 119962807,  60740065, 129816807,  46407893, 109331416,\n",
       "       116869902, 139625355, 119315129,   6739165,  17745104,  70091528,\n",
       "       141407002,  78339835,   4548460,  81405134, 143875450, 144580467,\n",
       "       128212905,  47350458,  84455619,  56101281, 115718123,   5620186,\n",
       "        77337680,  98441217,   3701879,  10775105,  70944742,  98207319,\n",
       "       144110938,  83889556,  70811286,  74514857, 111730660,    733401,\n",
       "        92350954,  88887467, 120186820,  59581973,  74574091,  65434500,\n",
       "       141030059,  31988940,  74604136, 120385175,   4915180,  93105696,\n",
       "        97537454,  71756031,  93135754, 123980457,  81513403,  76498775,\n",
       "        94293814, 130929563, 128105949,  68262643, 125693256,  54928488,\n",
       "        50465393,  84664341, 107058263,  55928591,   1437658, 124457391,\n",
       "        85641729, 139621248, 142934714, 142990784, 130820205, 103638445,\n",
       "       133449364,  17332882,   5782704,  87165108,  97344567, 110662311,\n",
       "       129766898, 125034601, 108514084, 138304752, 141804011,  74101233,\n",
       "       141886677,  72683773,  77298827,  52709212,  75182422,  95330554,\n",
       "       125730882,  94293008,  38655125, 119136559,  88783764,  45794303,\n",
       "       144138560,   4095255,  66502360,  61369832,  40107290, 140879695,\n",
       "        26749474, 127090975,    986703,  83313940, 137212507,  96214908,\n",
       "        90299072, 104664297,  88989629,  99707616,  96342937, 136491216,\n",
       "        86522701, 121337630, 139104218,  53795273, 133131739,  73231267,\n",
       "        23173158, 120158038,  85291159, 126203380,  38647539, 144118144,\n",
       "        75941752,  92204864, 127103693,  56482837, 137049127,   4544953,\n",
       "        60285319,  19607586,   2645279,  76193637, 144707260,  39580700,\n",
       "       125281686, 109233752,    785827,  17793409,  86246563, 133505298,\n",
       "       132623042, 131547163, 137147859, 132700799, 144959732,  83826256,\n",
       "         9047763, 143665680, 144201322, 112159695,    600335,  57164896,\n",
       "       121366722, 106806597, 119993069, 132454348, 112029060,    987778,\n",
       "       125704018, 128112710, 134316802, 132401669,  12295155,  75368178,\n",
       "       120384326,  97367806, 131405802,  59945430, 125044099,  75808253,\n",
       "         9914858, 143081204,  50580811,  13737728, 138089027,  68414600,\n",
       "       119279947, 118328197, 101961161, 137443466,  97356377, 112840564,\n",
       "        77306764,  27721310, 109727336,  89909030, 111409777, 115701929,\n",
       "       105637642, 140138838,  63888868, 123044725,  33131359, 108107905,\n",
       "       127319246, 126113926, 119261152,  97268541, 123994978,  70742939,\n",
       "        52506425,  92339595, 139667670,   9694744,  77506868,  50606782,\n",
       "       138765321,    519954, 119398720, 142896440, 127489117,  42161459,\n",
       "        48001155,  67358976, 114218348, 125018087,  94109307,  70773671,\n",
       "        53444664,   1282553,  84625764,  59391462,  69833347,  49973369,\n",
       "        60356694,  40510267,  77416427, 128639846,  11726293,  43235780,\n",
       "        83757649,  76301674, 142504686,  69646648,  70741949, 127583119,\n",
       "         3525351, 115691214, 118224064, 103637970,  41120916, 138931692,\n",
       "        16912784,  29313901, 143363014, 111558517, 143189082, 120659977,\n",
       "        12499335, 138203580, 109741122, 126833847,  70571444, 126286137,\n",
       "       125962449, 142014029,    792270,  96356064, 128746206, 139505618,\n",
       "        92729477, 106347831, 136911748, 125051305, 141216676, 141836957,\n",
       "       121299392, 128733287,  74865375,  38637805, 100005147, 108124357,\n",
       "       113822365, 136899808,  66440322, 142998906, 124099436,    405012,\n",
       "       141752541,  54107140, 132932888,  94191553, 130195255, 128244676,\n",
       "        75878818,   1446979, 132084541, 129127730, 142536497, 130756073,\n",
       "        73724793, 110261189,  76558623,  69762726,  16231199,  76498600,\n",
       "        95312173,  66420385, 126419934, 103408104,  43499873,  92912522,\n",
       "       143892648,  51126322, 107559420,  98795657,  46782740,  12515907,\n",
       "        23965663,  62337205, 129870781, 145090075,  70090973, 132997717,\n",
       "       119404461,  63328940, 119796394,   4566526, 102216584, 112565361,\n",
       "       107459447,  71472622,   3700899,  34502262,  98438505,  37730723,\n",
       "       137884077,  76052973, 117489130,  68884530, 142474254, 134330443,\n",
       "        65975274,  52057332, 141280501, 142892764, 118065195, 120623258,\n",
       "        69085139, 116244189,  65128137, 134022206,  59462084, 110311657,\n",
       "       122285995, 139774280,  96779498,  57286589, 130079181,  13267509,\n",
       "        85371987, 105773455, 107092597, 134984803,  17745825,  75324463,\n",
       "       129394580,  99927033,  65364744,  93429953, 111066384, 133212045,\n",
       "        95222618,  83756574, 107058120, 129523478, 136429088, 110282781,\n",
       "        88133019,  77091866, 142890805, 123604983, 117218856,  62237668,\n",
       "       134296571,  74532268, 138282206,  26200126, 138054070,  26820123,\n",
       "       115248214,  39571843, 141808169,  46746882, 121789304, 130164560,\n",
       "       131252297,  96425877,  76985717, 136396069,  55981721, 120047808,\n",
       "       121320830, 143887377,  61354166, 123903601,  13496989, 105873152,\n",
       "        68691365,  44106486,  61311868, 127213522, 136607131,  60904733,\n",
       "        70511606,  27120381, 127331446,  16221751, 132102792, 128130585,\n",
       "       132473657, 113180574, 125728448, 112838177, 141234913,  92460017,\n",
       "       112046210,  88704137,   4298738,  39480666,  94742537,  21591313,\n",
       "        63286685,  14678810, 100155779,  92951346, 112751925,  76323387,\n",
       "        63178081,   4307450, 124998744, 104541361,   7081552, 111083362,\n",
       "       121396944,  17654532,  55937578, 130705370, 125368142, 144662603,\n",
       "         1226738,  38604767, 134363013, 138260156, 133942061,  87314489,\n",
       "       119882670,  54534988,  67326589,  84615347,  75289208,   3287408,\n",
       "        88043946,  14520987, 142507153,  32358988, 120092069, 127021576,\n",
       "        91363523, 121245177,  39827879, 119692786,  19897182, 111956836,\n",
       "        27581020,  77366625,  38559964,  65028939,  40117778, 110792246,\n",
       "       139082105, 120652956,  89543172], dtype=int64)"
      ]
     },
     "execution_count": 35,
     "metadata": {},
     "output_type": "execute_result"
    }
   ],
   "source": [
    "a_eliminar = num.loc[num.ingresos>300000].index.values\n",
    "a_eliminar"
   ]
  },
  {
   "cell_type": "markdown",
   "id": "b995bf77",
   "metadata": {},
   "source": [
    "###### Aplicar"
   ]
  },
  {
   "cell_type": "code",
   "execution_count": 36,
   "id": "413fa5ea",
   "metadata": {},
   "outputs": [],
   "source": [
    "cat = cat[~cat.index.isin(a_eliminar)]\n",
    "num = num[~num.index.isin(a_eliminar)]"
   ]
  },
  {
   "cell_type": "markdown",
   "id": "a1c850da",
   "metadata": {},
   "source": [
    "Comprobamos"
   ]
  },
  {
   "cell_type": "code",
   "execution_count": 37,
   "id": "b19f8202",
   "metadata": {},
   "outputs": [
    {
     "data": {
      "text/plain": [
       "count    139091.000000\n",
       "mean      74989.816068\n",
       "std       42162.119725\n",
       "min           0.000000\n",
       "25%       46000.000000\n",
       "50%       65000.000000\n",
       "75%       92000.000000\n",
       "max      300000.000000\n",
       "Name: ingresos, dtype: float64"
      ]
     },
     "execution_count": 37,
     "metadata": {},
     "output_type": "execute_result"
    }
   ],
   "source": [
    "num.ingresos.describe()"
   ]
  },
  {
   "cell_type": "markdown",
   "id": "0f6b1e4a",
   "metadata": {},
   "source": [
    "## GUARDAR DATASETS TRAS CALIDAD DE DATOS"
   ]
  },
  {
   "cell_type": "markdown",
   "id": "1e211b09",
   "metadata": {},
   "source": [
    "Guarda los avances en df, cat y num con un sufijo para poder guardar o recuperar avances del proyecto.\n",
    "\n",
    "En formato pickle para no perder las modificaciones de metadatos."
   ]
  },
  {
   "cell_type": "markdown",
   "id": "abb12eef",
   "metadata": {},
   "source": [
    "### Definir los nombres de los archivos"
   ]
  },
  {
   "cell_type": "code",
   "execution_count": 38,
   "id": "f83c6f26",
   "metadata": {},
   "outputs": [],
   "source": [
    "ruta_trabajo = ruta_proyecto + '/02_Datos/03_Trabajo/' + 'trabajo_resultado_calidad.pickle'\n",
    "ruta_cat = ruta_proyecto + '/02_Datos/03_Trabajo/' + 'cat_resultado_calidad.pickle'\n",
    "ruta_num = ruta_proyecto + '/02_Datos/03_Trabajo/' + 'num_resultado_calidad.pickle'"
   ]
  },
  {
   "cell_type": "markdown",
   "id": "1699f284",
   "metadata": {},
   "source": [
    "### Guardar los archivos"
   ]
  },
  {
   "cell_type": "code",
   "execution_count": 39,
   "id": "6731887a",
   "metadata": {},
   "outputs": [],
   "source": [
    "df.to_pickle(ruta_trabajo)\n",
    "cat.to_pickle(ruta_cat)\n",
    "num.to_pickle(ruta_num)"
   ]
  }
 ],
 "metadata": {
  "kernelspec": {
   "display_name": "proyecto1",
   "language": "python",
   "name": "python3"
  },
  "language_info": {
   "codemirror_mode": {
    "name": "ipython",
    "version": 3
   },
   "file_extension": ".py",
   "mimetype": "text/x-python",
   "name": "python",
   "nbconvert_exporter": "python",
   "pygments_lexer": "ipython3",
   "version": "3.11.11"
  },
  "toc": {
   "base_numbering": 1,
   "nav_menu": {},
   "number_sections": true,
   "sideBar": true,
   "skip_h1_title": false,
   "title_cell": "Table of Contents",
   "title_sidebar": "Contents",
   "toc_cell": false,
   "toc_position": {
    "height": "calc(100% - 180px)",
    "left": "10px",
    "top": "150px",
    "width": "406.5px"
   },
   "toc_section_display": true,
   "toc_window_display": true
  },
  "varInspector": {
   "cols": {
    "lenName": 16,
    "lenType": 16,
    "lenVar": 40
   },
   "kernels_config": {
    "python": {
     "delete_cmd_postfix": "",
     "delete_cmd_prefix": "del ",
     "library": "var_list.py",
     "varRefreshCmd": "print(var_dic_list())"
    },
    "r": {
     "delete_cmd_postfix": ") ",
     "delete_cmd_prefix": "rm(",
     "library": "var_list.r",
     "varRefreshCmd": "cat(var_dic_list()) "
    }
   },
   "position": {
    "height": "546.85px",
    "left": "680.75px",
    "right": "20px",
    "top": "118px",
    "width": "350px"
   },
   "types_to_exclude": [
    "module",
    "function",
    "builtin_function_or_method",
    "instance",
    "_Feature"
   ],
   "window_display": false
  }
 },
 "nbformat": 4,
 "nbformat_minor": 5
}
