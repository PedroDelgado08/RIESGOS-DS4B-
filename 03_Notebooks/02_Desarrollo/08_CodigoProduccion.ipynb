{
 "cells": [
  {
   "cell_type": "markdown",
   "id": "4a9dbcfc",
   "metadata": {},
   "source": [
    "## IMPORTAR LAS LIBRERIAS"
   ]
  },
  {
   "cell_type": "markdown",
   "id": "dd8c5353",
   "metadata": {},
   "source": [
    "Actualizar a las que se usen finalmente en tu proyecto."
   ]
  },
  {
   "cell_type": "code",
   "execution_count": 1,
   "id": "f5d8cabb",
   "metadata": {
    "ExecuteTime": {
     "end_time": "2024-04-23T11:18:30.756174Z",
     "start_time": "2024-04-23T11:18:26.526466Z"
    }
   },
   "outputs": [],
   "source": [
    "import numpy as np\n",
    "import pandas as pd\n",
    "import pickle\n",
    "\n",
    "#Automcompletar rápido\n",
    "%config IPCompleter.greedy=True\n",
    "\n",
    "from sklearn.preprocessing import OrdinalEncoder\n",
    "from sklearn.preprocessing import OneHotEncoder\n",
    "from sklearn.preprocessing import Binarizer\n",
    "from sklearn.preprocessing import MinMaxScaler\n",
    "\n",
    "from sklearn.linear_model import LogisticRegression\n",
    "from sklearn.ensemble import HistGradientBoostingRegressor\n",
    "\n",
    "from sklearn.pipeline import Pipeline\n",
    "from sklearn.preprocessing import FunctionTransformer\n",
    "from sklearn.compose import make_column_transformer\n",
    "from sklearn.pipeline import make_pipeline"
   ]
  },
  {
   "cell_type": "markdown",
   "id": "988caebf",
   "metadata": {},
   "source": [
    "## CARGAR LOS DATOS"
   ]
  },
  {
   "cell_type": "markdown",
   "id": "e0d8cab7",
   "metadata": {},
   "source": [
    "### Ruta del proyecto"
   ]
  },
  {
   "cell_type": "code",
   "execution_count": 2,
   "id": "f69e995a",
   "metadata": {
    "ExecuteTime": {
     "end_time": "2024-04-23T11:18:34.485872Z",
     "start_time": "2024-04-23T11:18:34.480588Z"
    }
   },
   "outputs": [],
   "source": [
    "ruta_proyecto = 'C:/Users/User/Desktop/DS4B/03_MACHINE_LEARNING/08_CASOS/RIESGOS'"
   ]
  },
  {
   "cell_type": "markdown",
   "id": "61ce3d4d",
   "metadata": {},
   "source": [
    "### Nombre del fichero de datos"
   ]
  },
  {
   "cell_type": "code",
   "execution_count": 3,
   "id": "6f32fdf7",
   "metadata": {
    "ExecuteTime": {
     "end_time": "2024-04-23T11:18:37.171769Z",
     "start_time": "2024-04-23T11:18:37.167093Z"
    }
   },
   "outputs": [],
   "source": [
    "nombre_fichero_datos = 'prestamos.csv'"
   ]
  },
  {
   "cell_type": "markdown",
   "id": "dd149690",
   "metadata": {},
   "source": [
    "### Cargar los datos"
   ]
  },
  {
   "cell_type": "code",
   "execution_count": 4,
   "id": "b512e877",
   "metadata": {
    "ExecuteTime": {
     "end_time": "2024-04-23T11:18:39.751956Z",
     "start_time": "2024-04-23T11:18:38.709835Z"
    }
   },
   "outputs": [],
   "source": [
    "ruta_completa = ruta_proyecto + '/02_Datos/01_Originales/' + nombre_fichero_datos\n",
    "\n",
    "df = pd.read_csv(ruta_completa,index_col=0)"
   ]
  },
  {
   "cell_type": "markdown",
   "id": "8518b273",
   "metadata": {},
   "source": [
    "### Seleccionar solo las variables finales"
   ]
  },
  {
   "cell_type": "markdown",
   "id": "faea0191",
   "metadata": {},
   "source": [
    "#### Apuntar (manualmente) la lista de variables finales sin extensiones"
   ]
  },
  {
   "cell_type": "code",
   "execution_count": 5,
   "id": "a9a3a0c6",
   "metadata": {
    "ExecuteTime": {
     "end_time": "2024-04-23T11:18:41.920953Z",
     "start_time": "2024-04-23T11:18:41.914646Z"
    }
   },
   "outputs": [],
   "source": [
    "variables_finales = ['ingresos_verificados',\n",
    "                     'vivienda',\n",
    "                     'finalidad',\n",
    "                     'num_cuotas',\n",
    "                     'antigüedad_empleo',\n",
    "                     'rating',\n",
    "                     'ingresos',\n",
    "                     'dti',\n",
    "                     'num_lineas_credito',\n",
    "                     'porc_uso_revolving',\n",
    "                     'principal',\n",
    "                     'tipo_interes',\n",
    "                     'imp_cuota',\n",
    "                     'num_derogatorios',\n",
    "                     'estado',\n",
    "                     'imp_amortizado',\n",
    "                     'imp_recuperado'\n",
    "                  ]"
   ]
  },
  {
   "cell_type": "markdown",
   "id": "c0690c38",
   "metadata": {},
   "source": [
    "#### Crear la matriz de variables procesos (excel)"
   ]
  },
  {
   "cell_type": "markdown",
   "id": "0e157c46",
   "metadata": {},
   "source": [
    "Ir a la plantilla de Excel \"Fase Producción Plantilla Procesos\" y crear la matriz de variables por procesos."
   ]
  },
  {
   "cell_type": "markdown",
   "id": "49377b5d",
   "metadata": {},
   "source": [
    "#### Actualizar las importaciones"
   ]
  },
  {
   "cell_type": "markdown",
   "id": "cd075ec5",
   "metadata": {},
   "source": [
    "Ir arriba a la celda de importacion de paquetes y actualizarlos con los que finalmente vamos a usar."
   ]
  },
  {
   "cell_type": "markdown",
   "id": "36041f30",
   "metadata": {},
   "source": [
    "## ESTRUCTURA DE LOS DATASETS"
   ]
  },
  {
   "cell_type": "markdown",
   "id": "29bbe74b",
   "metadata": {},
   "source": [
    "### Eliminar registros"
   ]
  },
  {
   "cell_type": "markdown",
   "id": "6c9d5d5d",
   "metadata": {},
   "source": [
    "#### Por atípicos"
   ]
  },
  {
   "cell_type": "code",
   "execution_count": 6,
   "id": "fc7fbdde",
   "metadata": {
    "ExecuteTime": {
     "end_time": "2024-04-23T11:18:47.060975Z",
     "start_time": "2024-04-23T11:18:47.042148Z"
    }
   },
   "outputs": [],
   "source": [
    "a_eliminar = df.loc[df.ingresos > 300000].index.values"
   ]
  },
  {
   "cell_type": "code",
   "execution_count": 7,
   "id": "34415c3f",
   "metadata": {
    "ExecuteTime": {
     "end_time": "2024-04-23T11:18:48.054369Z",
     "start_time": "2024-04-23T11:18:47.957593Z"
    }
   },
   "outputs": [],
   "source": [
    "df = df[~df.index.isin(a_eliminar)]"
   ]
  },
  {
   "cell_type": "markdown",
   "id": "93f965cd",
   "metadata": {},
   "source": [
    "### Seleccionar variables"
   ]
  },
  {
   "cell_type": "markdown",
   "id": "502d82d9",
   "metadata": {},
   "source": [
    "Quedarse solo con las de la lista."
   ]
  },
  {
   "cell_type": "code",
   "execution_count": 8,
   "id": "53730346",
   "metadata": {
    "ExecuteTime": {
     "end_time": "2024-04-23T11:18:50.121076Z",
     "start_time": "2024-04-23T11:18:50.076047Z"
    }
   },
   "outputs": [],
   "source": [
    "df = df[variables_finales]"
   ]
  },
  {
   "cell_type": "markdown",
   "id": "d18dd483",
   "metadata": {},
   "source": [
    "## CREAR EL PIPELINE"
   ]
  },
  {
   "cell_type": "markdown",
   "id": "59d1e5fe",
   "metadata": {},
   "source": [
    "### Instanciar calidad de datos"
   ]
  },
  {
   "cell_type": "markdown",
   "id": "e911be73",
   "metadata": {},
   "source": [
    "#### Crear la función"
   ]
  },
  {
   "cell_type": "code",
   "execution_count": 9,
   "id": "49603828",
   "metadata": {
    "ExecuteTime": {
     "end_time": "2024-04-23T11:18:54.366614Z",
     "start_time": "2024-04-23T11:18:54.360050Z"
    }
   },
   "outputs": [],
   "source": [
    "def calidad_datos(temp):\n",
    "    temp['antigüedad_empleo'] = temp['antigüedad_empleo'].fillna('desconocido')\n",
    "    \n",
    "    for column in temp.select_dtypes('number').columns:\n",
    "        temp[column] = temp[column].fillna(0)\n",
    "    \n",
    "    return temp"
   ]
  },
  {
   "cell_type": "markdown",
   "id": "1d8637e3",
   "metadata": {},
   "source": [
    "### Instanciar creación de variables"
   ]
  },
  {
   "cell_type": "markdown",
   "id": "84c1b86a",
   "metadata": {},
   "source": [
    "Dado que la creación de variables es diferente para los 3 modelos necesitamos construir 3 funciones."
   ]
  },
  {
   "cell_type": "markdown",
   "id": "1b542571",
   "metadata": {},
   "source": [
    "#### Crear las funciones"
   ]
  },
  {
   "cell_type": "code",
   "execution_count": 10,
   "id": "77c0b25f",
   "metadata": {
    "ExecuteTime": {
     "end_time": "2024-04-23T11:18:56.828619Z",
     "start_time": "2024-04-23T11:18:56.821225Z"
    }
   },
   "outputs": [],
   "source": [
    "def creacion_variables_pd(df):\n",
    "    \n",
    "    temp = df.copy()\n",
    "    \n",
    "    temp['target_pd'] = np.where(temp.estado.isin(['Charged Off','Does not meet the credit policy. Status:Charged Off','Default']), 1, 0)\n",
    "    \n",
    "    temp.vivienda = temp.vivienda.replace(['ANY','NONE','OTHER'],'MORTGAGE')\n",
    "    \n",
    "    temp.finalidad = temp.finalidad.replace(['wedding','educational','renewable_energy'],'otros')\n",
    "    \n",
    "    #Eliminamos las variables que ya no usaremos\n",
    "    temp.drop(columns = ['estado','imp_amortizado','imp_recuperado'],inplace = True)\n",
    "    \n",
    "    #Separamos entre predictoras y target\n",
    "    temp_x = temp.iloc[:,:-1]\n",
    "    temp_y = temp.iloc[:,-1]\n",
    "    \n",
    "    return(temp_x,temp_y)"
   ]
  },
  {
   "cell_type": "code",
   "execution_count": 11,
   "id": "e41ae75a",
   "metadata": {
    "ExecuteTime": {
     "end_time": "2024-04-23T11:18:57.617975Z",
     "start_time": "2024-04-23T11:18:57.608744Z"
    }
   },
   "outputs": [],
   "source": [
    "def creacion_variables_ead(df):\n",
    "    \n",
    "    temp = df.copy()\n",
    "    \n",
    "    temp['pendiente'] = temp.principal - temp.imp_amortizado\n",
    "    \n",
    "    temp['target_ead'] = temp.pendiente / temp.principal\n",
    "    \n",
    "    temp.vivienda = temp.vivienda.replace(['ANY','NONE','OTHER'],'MORTGAGE')\n",
    "    \n",
    "    temp.finalidad = temp.finalidad.replace(['wedding','educational','renewable_energy'],'otros')\n",
    "    \n",
    "    #Eliminamos las variables que ya no usaremos\n",
    "    temp.drop(columns = ['estado','imp_amortizado','imp_recuperado','pendiente'],inplace = True)\n",
    "    \n",
    "    #Separamos entre predictoras y target\n",
    "    temp_x = temp.iloc[:,:-1]\n",
    "    temp_y = temp.iloc[:,-1]\n",
    "    \n",
    "    return(temp_x,temp_y)"
   ]
  },
  {
   "cell_type": "code",
   "execution_count": 12,
   "id": "303a28ec",
   "metadata": {
    "ExecuteTime": {
     "end_time": "2024-04-23T11:18:58.199064Z",
     "start_time": "2024-04-23T11:18:58.189182Z"
    }
   },
   "outputs": [],
   "source": [
    "def creacion_variables_lgd(df):\n",
    "    \n",
    "    temp = df.copy()\n",
    "    \n",
    "    temp['pendiente'] = temp.principal - temp.imp_amortizado\n",
    "    \n",
    "    temp['target_lgd'] = 1 - (temp.imp_recuperado / temp.pendiente)\n",
    "    \n",
    "    temp['target_lgd'].fillna(0,inplace=True)\n",
    "    \n",
    "    temp.vivienda = temp.vivienda.replace(['ANY','NONE','OTHER'],'MORTGAGE')\n",
    "    \n",
    "    temp.finalidad = temp.finalidad.replace(['wedding','educational','renewable_energy'],'otros')\n",
    "    \n",
    "    #Eliminamos las variables que ya no usaremos\n",
    "    temp.drop(columns = ['estado','imp_amortizado','imp_recuperado','pendiente'],inplace = True)\n",
    "    \n",
    "    #Separamos entre predictoras y target\n",
    "    temp_x = temp.iloc[:,:-1]\n",
    "    temp_y = temp.iloc[:,-1]\n",
    "    \n",
    "    return(temp_x,temp_y)"
   ]
  },
  {
   "cell_type": "markdown",
   "id": "af08f633",
   "metadata": {},
   "source": [
    "#### Crear los dataframes de X e y"
   ]
  },
  {
   "cell_type": "code",
   "execution_count": 13,
   "id": "6e32bae4",
   "metadata": {
    "ExecuteTime": {
     "end_time": "2024-04-23T11:19:00.837197Z",
     "start_time": "2024-04-23T11:18:59.672493Z"
    }
   },
   "outputs": [
    {
     "name": "stderr",
     "output_type": "stream",
     "text": [
      "C:\\Users\\User\\AppData\\Local\\Temp\\ipykernel_11884\\2818013605.py:9: FutureWarning: A value is trying to be set on a copy of a DataFrame or Series through chained assignment using an inplace method.\n",
      "The behavior will change in pandas 3.0. This inplace method will never work because the intermediate object on which we are setting values always behaves as a copy.\n",
      "\n",
      "For example, when doing 'df[col].method(value, inplace=True)', try using 'df.method({col: value}, inplace=True)' or df[col] = df[col].method(value) instead, to perform the operation inplace on the original object.\n",
      "\n",
      "\n",
      "  temp['target_lgd'].fillna(0,inplace=True)\n"
     ]
    }
   ],
   "source": [
    "x_pd, y_pd = creacion_variables_pd(calidad_datos(df))\n",
    "\n",
    "x_ead, y_ead = creacion_variables_ead(calidad_datos(df))\n",
    "\n",
    "x_lgd, y_lgd = creacion_variables_lgd(calidad_datos(df))"
   ]
  },
  {
   "cell_type": "markdown",
   "id": "d7f54769",
   "metadata": {},
   "source": [
    "### Instanciar transformación de variables"
   ]
  },
  {
   "cell_type": "code",
   "execution_count": 14,
   "id": "d32c2077",
   "metadata": {},
   "outputs": [],
   "source": [
    "#ONE HOT ENCODING\n",
    "var_ohe = [ 'ingresos_verificados', 'vivienda','finalidad','num_cuotas']\n",
    "ohe = OneHotEncoder(sparse_output = False, handle_unknown='ignore')\n",
    "\n",
    "\n",
    "#ORDINAL ENCODING\n",
    "var_oe = ['antigüedad_empleo','rating']\n",
    "\n",
    "orden_antigüedad_empleo = ['desconocido','< 1 year','1 year','2 years','3 years','4 years',\n",
    "                           '5 years','6 years','7 years','8 years','9 years','10+ years']\n",
    "\n",
    "orden_rating = ['A','B','C','D','E','F','G']\n",
    "\n",
    "oe = OrdinalEncoder(categories = [orden_antigüedad_empleo,orden_rating],\n",
    "                    handle_unknown = 'use_encoded_value',\n",
    "                    unknown_value = 12)\n",
    "\n",
    "#BINNING\n",
    "var_bin = ['num_derogatorios']\n",
    "bina = Binarizer(threshold=0)\n",
    "\n",
    "\n",
    "#MIN-MAX SCALING\n",
    "var_mms = ['ingresos','dti','num_lineas_credito','porc_uso_revolving',\n",
    "            'principal','tipo_interes','imp_cuota']\n",
    "mms = MinMaxScaler()\n"
   ]
  },
  {
   "cell_type": "markdown",
   "id": "dd8ed3b7",
   "metadata": {},
   "source": [
    "### Crear el pipe del preprocesamiento"
   ]
  },
  {
   "cell_type": "markdown",
   "id": "ad7e2afa",
   "metadata": {},
   "source": [
    "#### Crear el column transformer"
   ]
  },
  {
   "cell_type": "code",
   "execution_count": 15,
   "id": "4ade237b",
   "metadata": {},
   "outputs": [],
   "source": [
    "ct = make_column_transformer(\n",
    "    (ohe, var_ohe),\n",
    "    (oe, var_oe),\n",
    "    (bina, var_bin),\n",
    "    (mms, var_mms),\n",
    "    remainder='passthrough')"
   ]
  },
  {
   "cell_type": "markdown",
   "id": "fbddbcfc",
   "metadata": {},
   "source": [
    "### Instanciar los modelos"
   ]
  },
  {
   "cell_type": "markdown",
   "id": "c3311716",
   "metadata": {},
   "source": [
    "#### Instanciar los algoritmos"
   ]
  },
  {
   "cell_type": "code",
   "execution_count": 16,
   "id": "138c4fb7",
   "metadata": {},
   "outputs": [],
   "source": [
    "modelo_pd = LogisticRegression(solver = 'saga', n_jobs=-1, C = 0.25, penalty = 'l1')\n",
    "\n",
    "modelo_ead = HistGradientBoostingRegressor(learning_rate = 0.1,\n",
    "                                          max_iter = 200,\n",
    "                                          max_depth = 10,\n",
    "                                          min_samples_leaf = 100,\n",
    "                                          scoring = 'neg_mean_absolute_percentage_error',\n",
    "                                          l2_regularization = 0.75)\n",
    "\n",
    "modelo_lgd = HistGradientBoostingRegressor(learning_rate = 0.1,\n",
    "                                          max_iter = 200,\n",
    "                                          max_depth = 20,\n",
    "                                          min_samples_leaf = 100,\n",
    "                                          scoring = 'neg_mean_absolute_percentage_error',\n",
    "                                          l2_regularization = 0)"
   ]
  },
  {
   "cell_type": "markdown",
   "id": "c94a407d",
   "metadata": {},
   "source": [
    "#### Crear los pipes finales de entrenamiento"
   ]
  },
  {
   "cell_type": "code",
   "execution_count": 17,
   "id": "a9eb6b9e",
   "metadata": {},
   "outputs": [],
   "source": [
    "pipe_entrenamiento_pd = make_pipeline(ct,modelo_pd)\n",
    "\n",
    "pipe_entrenamiento_ead = make_pipeline(ct,modelo_ead)\n",
    "\n",
    "pipe_entrenamiento_lgd = make_pipeline(ct,modelo_lgd)"
   ]
  },
  {
   "cell_type": "markdown",
   "id": "9f56ba68",
   "metadata": {},
   "source": [
    "#### Guardar el pipe final de entrenamiento"
   ]
  },
  {
   "cell_type": "code",
   "execution_count": 18,
   "id": "cec6095b",
   "metadata": {},
   "outputs": [],
   "source": [
    "ruta_pipe_entrenamiento_pd = ruta_proyecto + '/04_Modelos/pipe_entrenamiento_pd.pickle'\n",
    "\n",
    "with open(ruta_pipe_entrenamiento_pd, mode='wb') as file:\n",
    "   pickle.dump(pipe_entrenamiento_pd, file)"
   ]
  },
  {
   "cell_type": "code",
   "execution_count": 19,
   "id": "dbc67be9",
   "metadata": {},
   "outputs": [],
   "source": [
    "ruta_pipe_entrenamiento_ead = ruta_proyecto + '/04_Modelos/pipe_entrenamiento_ead.pickle'\n",
    "\n",
    "with open(ruta_pipe_entrenamiento_ead, mode='wb') as file:\n",
    "   pickle.dump(pipe_entrenamiento_ead, file)"
   ]
  },
  {
   "cell_type": "code",
   "execution_count": 20,
   "id": "aa1be0dd",
   "metadata": {},
   "outputs": [],
   "source": [
    "ruta_pipe_entrenamiento_lgd = ruta_proyecto + '/04_Modelos/pipe_entrenamiento_lgd.pickle'\n",
    "\n",
    "with open(ruta_pipe_entrenamiento_lgd, mode='wb') as file:\n",
    "   pickle.dump(pipe_entrenamiento_lgd, file)"
   ]
  },
  {
   "cell_type": "markdown",
   "id": "cc4a2d48",
   "metadata": {},
   "source": [
    "#### Entrenar los pipes"
   ]
  },
  {
   "cell_type": "code",
   "execution_count": 21,
   "id": "1af0adc6",
   "metadata": {},
   "outputs": [],
   "source": [
    "pipe_ejecucion_pd = pipe_entrenamiento_pd.fit(x_pd,y_pd)\n",
    "pipe_ejecucion_ead = pipe_entrenamiento_ead.fit(x_ead,y_ead)\n",
    "pipe_ejecucion_lgd = pipe_entrenamiento_lgd.fit(x_lgd,y_lgd)"
   ]
  },
  {
   "cell_type": "markdown",
   "id": "fba794ba",
   "metadata": {},
   "source": [
    "## GUARDAR EL PIPE"
   ]
  },
  {
   "cell_type": "markdown",
   "id": "30bb60a2",
   "metadata": {},
   "source": [
    "### Guardar el pipe final de ejecución"
   ]
  },
  {
   "cell_type": "code",
   "execution_count": 22,
   "id": "54649aa0",
   "metadata": {},
   "outputs": [],
   "source": [
    "ruta_pipe_ejecucion_pd = ruta_proyecto + '/04_Modelos/pipe_ejecucion_pd.pickle'\n",
    "\n",
    "with open(ruta_pipe_ejecucion_pd, mode='wb') as file:\n",
    "   pickle.dump(pipe_ejecucion_pd, file)"
   ]
  },
  {
   "cell_type": "code",
   "execution_count": 23,
   "id": "f58ebbe7",
   "metadata": {},
   "outputs": [],
   "source": [
    "ruta_pipe_ejecucion_ead = ruta_proyecto + '/04_Modelos/pipe_ejecucion_ead.pickle'\n",
    "\n",
    "with open(ruta_pipe_ejecucion_ead, mode='wb') as file:\n",
    "   pickle.dump(pipe_ejecucion_ead, file)"
   ]
  },
  {
   "cell_type": "code",
   "execution_count": 24,
   "id": "0e44e523",
   "metadata": {},
   "outputs": [],
   "source": [
    "ruta_pipe_ejecucion_lgd = ruta_proyecto + '/04_Modelos/pipe_ejecucion_lgd.pickle'\n",
    "\n",
    "with open(ruta_pipe_ejecucion_lgd, mode='wb') as file:\n",
    "   pickle.dump(pipe_ejecucion_lgd, file)"
   ]
  },
  {
   "cell_type": "code",
   "execution_count": null,
   "id": "6f2a9816",
   "metadata": {},
   "outputs": [],
   "source": []
  }
 ],
 "metadata": {
  "hide_input": false,
  "kernelspec": {
   "display_name": "proyecto1",
   "language": "python",
   "name": "python3"
  },
  "language_info": {
   "codemirror_mode": {
    "name": "ipython",
    "version": 3
   },
   "file_extension": ".py",
   "mimetype": "text/x-python",
   "name": "python",
   "nbconvert_exporter": "python",
   "pygments_lexer": "ipython3",
   "version": "3.11.11"
  },
  "nbTranslate": {
   "displayLangs": [
    "*"
   ],
   "hotkey": "alt-t",
   "langInMainMenu": true,
   "sourceLang": "en",
   "targetLang": "fr",
   "useGoogleTranslate": true
  },
  "toc": {
   "base_numbering": 1,
   "nav_menu": {},
   "number_sections": true,
   "sideBar": true,
   "skip_h1_title": false,
   "title_cell": "Table of Contents",
   "title_sidebar": "Contents",
   "toc_cell": false,
   "toc_position": {
    "height": "calc(100% - 180px)",
    "left": "10px",
    "top": "150px",
    "width": "383.367px"
   },
   "toc_section_display": true,
   "toc_window_display": true
  },
  "varInspector": {
   "cols": {
    "lenName": 16,
    "lenType": 16,
    "lenVar": 40
   },
   "kernels_config": {
    "python": {
     "delete_cmd_postfix": "",
     "delete_cmd_prefix": "del ",
     "library": "var_list.py",
     "varRefreshCmd": "print(var_dic_list())"
    },
    "r": {
     "delete_cmd_postfix": ") ",
     "delete_cmd_prefix": "rm(",
     "library": "var_list.r",
     "varRefreshCmd": "cat(var_dic_list()) "
    }
   },
   "position": {
    "height": "437.85px",
    "left": "1550px",
    "right": "20px",
    "top": "120px",
    "width": "350px"
   },
   "types_to_exclude": [
    "module",
    "function",
    "builtin_function_or_method",
    "instance",
    "_Feature"
   ],
   "window_display": false
  }
 },
 "nbformat": 4,
 "nbformat_minor": 5
}
